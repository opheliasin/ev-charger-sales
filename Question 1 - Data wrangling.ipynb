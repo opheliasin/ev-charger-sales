{
 "cells": [
  {
   "cell_type": "markdown",
   "metadata": {},
   "source": [
    "# Question 1 - Data wrangling"
   ]
  },
  {
   "cell_type": "code",
   "execution_count": 5,
   "metadata": {},
   "outputs": [],
   "source": [
    "import pandas as pd\n",
    "import geopandas as gpd\n",
    "import requests, json"
   ]
  },
  {
   "cell_type": "markdown",
   "metadata": {},
   "source": [
    "## Joining census data with CalEnviroScreen shapefile"
   ]
  },
  {
   "cell_type": "markdown",
   "metadata": {},
   "source": [
    "Here are the variables of interest:\n",
    "- Median household income: B19013_001E\n",
    "- Median gross rent: B25064_001E\n",
    "- Units in housing: DP04_0006E to DP04_00013E"
   ]
  },
  {
   "cell_type": "markdown",
   "metadata": {},
   "source": [
    "First we get median household income and median gross rent from U.S. Census via an API request."
   ]
  },
  {
   "cell_type": "code",
   "execution_count": 6,
   "metadata": {},
   "outputs": [],
   "source": [
    "#we have to make a different request bc this variable isn't in the \"profiles\" subsection\n",
    "rs = \"https://api.census.gov/data/2020/acs/acs5?get=NAME,B19013_001E,B25064_001E&for=tract:*&in=state:06\"\n",
    "r = requests.get(rs)\n",
    "d=json.loads(r.text)\n",
    "IncomeRentDf = pd.DataFrame(d[1:], columns = d[0])"
   ]
  },
  {
   "cell_type": "markdown",
   "metadata": {},
   "source": [
    "Then we repeat the same process, except this time we are pulling housing data from another dataset from the U.S. Census."
   ]
  },
  {
   "cell_type": "code",
   "execution_count": 7,
   "metadata": {},
   "outputs": [],
   "source": [
    "rs2 = \"https://api.census.gov/data/2020/acs/acs5/profile?get=NAME,DP04_0006E,DP04_0007E,DP04_0008E,DP04_0009E,DP04_0010E,DP04_0011E,DP04_0012E,DP04_0013E&for=tract:*&in=state:06\"\n",
    "r2 = requests.get(rs2)\n",
    "d2=json.loads(r2.text)\n",
    "HousingDf = pd.DataFrame(d2[1:], columns = d2[0])"
   ]
  },
  {
   "cell_type": "markdown",
   "metadata": {},
   "source": [
    "We then renamed the columns to make them more understandable."
   ]
  },
  {
   "cell_type": "code",
   "execution_count": 8,
   "metadata": {},
   "outputs": [],
   "source": [
    "IncomeRentDf.rename(columns = {'B19013_001E': 'Income', 'B25064_001E': 'Rent'}, inplace= True)"
   ]
  },
  {
   "cell_type": "markdown",
   "metadata": {},
   "source": [
    "We create a `GEOID` column by combining the `state`, `county`, and `tract` column in preparation for a tabular join."
   ]
  },
  {
   "cell_type": "code",
   "execution_count": 9,
   "metadata": {},
   "outputs": [],
   "source": [
    "columns = ['tract', 'county', 'state']\n",
    "for i in columns:\n",
    "    IncomeRentDf[i] = IncomeRentDf[i].astype(str)\n",
    "    HousingDf[i] = HousingDf[i].astype(str)\n",
    "\n",
    "HousingDf['GEOID'] = HousingDf['state'] + HousingDf['county'] + HousingDf['tract']\n",
    "HousingDf['GEOID'] = HousingDf['GEOID'].astype(int)\n",
    "IncomeRentDf['GEOID'] = IncomeRentDf['state'] + IncomeRentDf['county'] + IncomeRentDf['tract']\n",
    "IncomeRentDf['GEOID'] = IncomeRentDf['GEOID'].astype(int)"
   ]
  },
  {
   "cell_type": "markdown",
   "metadata": {},
   "source": [
    "Here we join `HousingDf` and `IncomeRentDf` to a new dataframe - `censusDf`."
   ]
  },
  {
   "cell_type": "code",
   "execution_count": 10,
   "metadata": {},
   "outputs": [],
   "source": [
    "censusDf = HousingDf.set_index(\"GEOID\").join(IncomeRentDf.set_index(\"GEOID\"), rsuffix = '_remove')\n",
    "#dropping duplicate and useless columns\n",
    "censusDf.drop(columns = ['NAME', 'NAME_remove', 'state', 'state_remove', 'county', 'county_remove', 'tract', 'tract_remove'], inplace = True)"
   ]
  },
  {
   "cell_type": "markdown",
   "metadata": {},
   "source": [
    "Here we create a geodataframe for the CalEnviroscreen 4.0 data by reading a shapefile retrieved from [OEHHA](https://oehha.ca.gov/calenviroscreen/report/calenviroscreen-40). "
   ]
  },
  {
   "cell_type": "code",
   "execution_count": 12,
   "metadata": {},
   "outputs": [],
   "source": [
    "CalEnviroScreenGdf = gpd.read_file('data/CES4/CES4 Final Shapefile.shp')\n",
    "CalEnviroScreenGdf['Tract'] = CalEnviroScreenGdf['Tract'].astype(int)"
   ]
  },
  {
   "cell_type": "markdown",
   "metadata": {},
   "source": [
    "We then join `CalEnviroScreenGdf` and `censusDf` into `tractsDf`."
   ]
  },
  {
   "cell_type": "code",
   "execution_count": 13,
   "metadata": {},
   "outputs": [],
   "source": [
    "tractsDf = CalEnviroScreenGdf.set_index('Tract').join(censusDf, how='left')"
   ]
  },
  {
   "cell_type": "markdown",
   "metadata": {},
   "source": [
    "# Wrangling EV charger data"
   ]
  },
  {
   "cell_type": "markdown",
   "metadata": {},
   "source": [
    "First, we requested data via an API from NREL and selected only stations that are located in California."
   ]
  },
  {
   "cell_type": "code",
   "execution_count": null,
   "metadata": {},
   "outputs": [],
   "source": [
    "#optional code\n",
    "#have to run this to fix my geopandas for some reason; if yours works don't run it\n",
    "##solution from https://gis.stackexchange.com/questions/375361/zonal-stats-returns-proj-error\n",
    "import os\n",
    "import pyproj as p\n",
    "os.environ['PROJ_LIB'] = '/Users/hfrahn/opt/anaconda3/envs/uds/bin/pyproj'\n",
    "p.datadir.set_data_dir('/Users/hfrahn/opt/anaconda3/envs/uds/bin/pyproj')"
   ]
  },
  {
   "cell_type": "code",
   "execution_count": 15,
   "metadata": {},
   "outputs": [],
   "source": [
    "#request chargers from NREL \n",
    "apiKey = \"eCN7llpPT79TmygqmvC71QdnnWdOquoRdnCR1DXo\"\n",
    "nrelString = \"https://developer.nrel.gov/api/alt-fuel-stations/v1.geojson?api_key={}&fuel_type=ELEC&state=CA\".format(apiKey)\n",
    "chargers = gpd.read_file(nrelString)"
   ]
  },
  {
   "cell_type": "markdown",
   "id": "a3deb1d6",
   "metadata": {},
   "source": [
    "We filtered and keep only chargers that are accessible to the public."
   ]
  },
  {
   "cell_type": "code",
   "execution_count": 16,
   "metadata": {},
   "outputs": [],
   "source": [
    "chargers = chargers[chargers['access_code'] == 'public']"
   ]
  },
  {
   "cell_type": "markdown",
   "id": "a3deb1d6",
   "metadata": {},
   "source": [
    "We can filter and keep only chargers that are accessible to the public."
   ]
  },
  {
   "cell_type": "code",
   "execution_count": 17,
   "metadata": {},
   "outputs": [
    {
     "data": {
      "text/html": [
       "<div>\n",
       "<style scoped>\n",
       "    .dataframe tbody tr th:only-of-type {\n",
       "        vertical-align: middle;\n",
       "    }\n",
       "\n",
       "    .dataframe tbody tr th {\n",
       "        vertical-align: top;\n",
       "    }\n",
       "\n",
       "    .dataframe thead th {\n",
       "        text-align: right;\n",
       "    }\n",
       "</style>\n",
       "<table border=\"1\" class=\"dataframe\">\n",
       "  <thead>\n",
       "    <tr style=\"text-align: right;\">\n",
       "      <th></th>\n",
       "      <th>ZIP</th>\n",
       "      <th>County</th>\n",
       "      <th>ApproxLoc</th>\n",
       "      <th>TotPop19</th>\n",
       "      <th>CIscore</th>\n",
       "      <th>CIscoreP</th>\n",
       "      <th>Ozone</th>\n",
       "      <th>OzoneP</th>\n",
       "      <th>PM2_5</th>\n",
       "      <th>PM2_5_P</th>\n",
       "      <th>...</th>\n",
       "      <th>ng_fill_type_code</th>\n",
       "      <th>ng_psi</th>\n",
       "      <th>ng_vehicle_class</th>\n",
       "      <th>access_days_time_fr</th>\n",
       "      <th>intersection_directions_fr</th>\n",
       "      <th>bd_blends_fr</th>\n",
       "      <th>groups_with_access_code_fr</th>\n",
       "      <th>ev_pricing_fr</th>\n",
       "      <th>ev_network_ids</th>\n",
       "      <th>federal_agency</th>\n",
       "    </tr>\n",
       "    <tr>\n",
       "      <th>Tract</th>\n",
       "      <th></th>\n",
       "      <th></th>\n",
       "      <th></th>\n",
       "      <th></th>\n",
       "      <th></th>\n",
       "      <th></th>\n",
       "      <th></th>\n",
       "      <th></th>\n",
       "      <th></th>\n",
       "      <th></th>\n",
       "      <th></th>\n",
       "      <th></th>\n",
       "      <th></th>\n",
       "      <th></th>\n",
       "      <th></th>\n",
       "      <th></th>\n",
       "      <th></th>\n",
       "      <th></th>\n",
       "      <th></th>\n",
       "      <th></th>\n",
       "      <th></th>\n",
       "    </tr>\n",
       "  </thead>\n",
       "  <tbody>\n",
       "    <tr>\n",
       "      <th>6083002103</th>\n",
       "      <td>93454</td>\n",
       "      <td>Santa Barbara</td>\n",
       "      <td>Santa Maria</td>\n",
       "      <td>4495</td>\n",
       "      <td>36.019653</td>\n",
       "      <td>69.162885</td>\n",
       "      <td>0.03419</td>\n",
       "      <td>10.566273</td>\n",
       "      <td>7.567724</td>\n",
       "      <td>10.031114</td>\n",
       "      <td>...</td>\n",
       "      <td>None</td>\n",
       "      <td>None</td>\n",
       "      <td>None</td>\n",
       "      <td>None</td>\n",
       "      <td>None</td>\n",
       "      <td>None</td>\n",
       "      <td>Public</td>\n",
       "      <td>None</td>\n",
       "      <td>{'station': ['837'], 'posts': ['110112-01', '1...</td>\n",
       "      <td>None</td>\n",
       "    </tr>\n",
       "    <tr>\n",
       "      <th>6083002103</th>\n",
       "      <td>93454</td>\n",
       "      <td>Santa Barbara</td>\n",
       "      <td>Santa Maria</td>\n",
       "      <td>4495</td>\n",
       "      <td>36.019653</td>\n",
       "      <td>69.162885</td>\n",
       "      <td>0.03419</td>\n",
       "      <td>10.566273</td>\n",
       "      <td>7.567724</td>\n",
       "      <td>10.031114</td>\n",
       "      <td>...</td>\n",
       "      <td>None</td>\n",
       "      <td>None</td>\n",
       "      <td>None</td>\n",
       "      <td>None</td>\n",
       "      <td>None</td>\n",
       "      <td>None</td>\n",
       "      <td>Public</td>\n",
       "      <td>None</td>\n",
       "      <td>None</td>\n",
       "      <td>None</td>\n",
       "    </tr>\n",
       "    <tr>\n",
       "      <th>6083002103</th>\n",
       "      <td>93454</td>\n",
       "      <td>Santa Barbara</td>\n",
       "      <td>Santa Maria</td>\n",
       "      <td>4495</td>\n",
       "      <td>36.019653</td>\n",
       "      <td>69.162885</td>\n",
       "      <td>0.03419</td>\n",
       "      <td>10.566273</td>\n",
       "      <td>7.567724</td>\n",
       "      <td>10.031114</td>\n",
       "      <td>...</td>\n",
       "      <td>None</td>\n",
       "      <td>None</td>\n",
       "      <td>None</td>\n",
       "      <td>None</td>\n",
       "      <td>None</td>\n",
       "      <td>None</td>\n",
       "      <td>Public</td>\n",
       "      <td>None</td>\n",
       "      <td>{'station': ['USCPIL7823641'], 'posts': ['1357...</td>\n",
       "      <td>None</td>\n",
       "    </tr>\n",
       "    <tr>\n",
       "      <th>6083002103</th>\n",
       "      <td>93454</td>\n",
       "      <td>Santa Barbara</td>\n",
       "      <td>Santa Maria</td>\n",
       "      <td>4495</td>\n",
       "      <td>36.019653</td>\n",
       "      <td>69.162885</td>\n",
       "      <td>0.03419</td>\n",
       "      <td>10.566273</td>\n",
       "      <td>7.567724</td>\n",
       "      <td>10.031114</td>\n",
       "      <td>...</td>\n",
       "      <td>None</td>\n",
       "      <td>None</td>\n",
       "      <td>None</td>\n",
       "      <td>None</td>\n",
       "      <td>None</td>\n",
       "      <td>None</td>\n",
       "      <td>Public</td>\n",
       "      <td>None</td>\n",
       "      <td>{'station': ['USCPIL7823791'], 'posts': ['1357...</td>\n",
       "      <td>None</td>\n",
       "    </tr>\n",
       "    <tr>\n",
       "      <th>6083002103</th>\n",
       "      <td>93454</td>\n",
       "      <td>Santa Barbara</td>\n",
       "      <td>Santa Maria</td>\n",
       "      <td>4495</td>\n",
       "      <td>36.019653</td>\n",
       "      <td>69.162885</td>\n",
       "      <td>0.03419</td>\n",
       "      <td>10.566273</td>\n",
       "      <td>7.567724</td>\n",
       "      <td>10.031114</td>\n",
       "      <td>...</td>\n",
       "      <td>None</td>\n",
       "      <td>None</td>\n",
       "      <td>None</td>\n",
       "      <td>None</td>\n",
       "      <td>None</td>\n",
       "      <td>None</td>\n",
       "      <td>Public</td>\n",
       "      <td>None</td>\n",
       "      <td>{'station': ['USCPIL7821621'], 'posts': ['1357...</td>\n",
       "      <td>None</td>\n",
       "    </tr>\n",
       "  </tbody>\n",
       "</table>\n",
       "<p>5 rows × 137 columns</p>\n",
       "</div>"
      ],
      "text/plain": [
       "              ZIP         County    ApproxLoc  TotPop19    CIscore   CIscoreP  \\\n",
       "Tract                                                                           \n",
       "6083002103  93454  Santa Barbara  Santa Maria      4495  36.019653  69.162885   \n",
       "6083002103  93454  Santa Barbara  Santa Maria      4495  36.019653  69.162885   \n",
       "6083002103  93454  Santa Barbara  Santa Maria      4495  36.019653  69.162885   \n",
       "6083002103  93454  Santa Barbara  Santa Maria      4495  36.019653  69.162885   \n",
       "6083002103  93454  Santa Barbara  Santa Maria      4495  36.019653  69.162885   \n",
       "\n",
       "              Ozone     OzoneP     PM2_5    PM2_5_P  ...  ng_fill_type_code  \\\n",
       "Tract                                                ...                      \n",
       "6083002103  0.03419  10.566273  7.567724  10.031114  ...               None   \n",
       "6083002103  0.03419  10.566273  7.567724  10.031114  ...               None   \n",
       "6083002103  0.03419  10.566273  7.567724  10.031114  ...               None   \n",
       "6083002103  0.03419  10.566273  7.567724  10.031114  ...               None   \n",
       "6083002103  0.03419  10.566273  7.567724  10.031114  ...               None   \n",
       "\n",
       "            ng_psi  ng_vehicle_class  access_days_time_fr  \\\n",
       "Tract                                                       \n",
       "6083002103    None              None                 None   \n",
       "6083002103    None              None                 None   \n",
       "6083002103    None              None                 None   \n",
       "6083002103    None              None                 None   \n",
       "6083002103    None              None                 None   \n",
       "\n",
       "            intersection_directions_fr  bd_blends_fr  \\\n",
       "Tract                                                  \n",
       "6083002103                        None          None   \n",
       "6083002103                        None          None   \n",
       "6083002103                        None          None   \n",
       "6083002103                        None          None   \n",
       "6083002103                        None          None   \n",
       "\n",
       "            groups_with_access_code_fr  ev_pricing_fr  \\\n",
       "Tract                                                   \n",
       "6083002103                      Public           None   \n",
       "6083002103                      Public           None   \n",
       "6083002103                      Public           None   \n",
       "6083002103                      Public           None   \n",
       "6083002103                      Public           None   \n",
       "\n",
       "                                               ev_network_ids  federal_agency  \n",
       "Tract                                                                          \n",
       "6083002103  {'station': ['837'], 'posts': ['110112-01', '1...            None  \n",
       "6083002103                                               None            None  \n",
       "6083002103  {'station': ['USCPIL7823641'], 'posts': ['1357...            None  \n",
       "6083002103  {'station': ['USCPIL7823791'], 'posts': ['1357...            None  \n",
       "6083002103  {'station': ['USCPIL7821621'], 'posts': ['1357...            None  \n",
       "\n",
       "[5 rows x 137 columns]"
      ]
     },
     "execution_count": 17,
     "metadata": {},
     "output_type": "execute_result"
    }
   ],
   "source": [
    "chargers_sjoin = gpd.sjoin(tractsDf, chargers.to_crs('EPSG:3310'), how=\"inner\", predicate='intersects')\n",
    "chargers_sjoin.head()"
   ]
  },
  {
   "cell_type": "markdown",
   "id": "1163e20c",
   "metadata": {},
   "source": [
    "Below we use `groupby` to aggregate the number of EV chargers per census tract."
   ]
  },
  {
   "cell_type": "code",
   "execution_count": 18,
   "id": "dc5c73b8",
   "metadata": {},
   "outputs": [],
   "source": [
    "chargers_by_tract = chargers_sjoin.reset_index().groupby(['Tract'])['Tract'].count()"
   ]
  },
  {
   "cell_type": "code",
   "execution_count": 21,
   "metadata": {},
   "outputs": [],
   "source": [
    "chargers_by_tract = chargers_by_tract.to_frame().rename(columns = {'Tract': 'Charger count'})\n",
    "chargers_by_tract['Charger count'] = chargers_by_tract['Charger count'].astype('int16')"
   ]
  },
  {
   "cell_type": "markdown",
   "id": "c19a9b8b",
   "metadata": {},
   "source": [
    "We then joined `chargers_by_tract` dataframe to `tractsDf` in preparation for predictive modeling."
   ]
  },
  {
   "cell_type": "code",
   "execution_count": 22,
   "id": "98fdcc25",
   "metadata": {},
   "outputs": [],
   "source": [
    "joinedDf = tractsDf.join(chargers_by_tract, how = 'left')"
   ]
  },
  {
   "cell_type": "markdown",
   "metadata": {},
   "source": [
    "Replace `NaN`s in `count` with `0`s"
   ]
  },
  {
   "cell_type": "code",
   "execution_count": 24,
   "metadata": {},
   "outputs": [],
   "source": [
    "joinedDf['Charger count'] = joinedDf['Charger count'].fillna(0)"
   ]
  },
  {
   "cell_type": "markdown",
   "metadata": {},
   "source": [
    "We then export `joinedDf` as a GeoJson file for further visualization and analysis in the main notebook."
   ]
  },
  {
   "cell_type": "code",
   "execution_count": null,
   "metadata": {},
   "outputs": [],
   "source": [
    "joinedDf.to_file('data/joinedDf.geojson', driver='GeoJSON')  "
   ]
  }
 ],
 "metadata": {
  "interpreter": {
   "hash": "af74363cf09c58d2d73426591354c306a655761dcc6e5258661216e55027c84b"
  },
  "kernelspec": {
   "display_name": "Python 3.8.13 ('uds')",
   "language": "python",
   "name": "python3"
  },
  "language_info": {
   "codemirror_mode": {
    "name": "ipython",
    "version": 3
   },
   "file_extension": ".py",
   "mimetype": "text/x-python",
   "name": "python",
   "nbconvert_exporter": "python",
   "pygments_lexer": "ipython3",
   "version": "3.8.13"
  },
  "orig_nbformat": 4
 },
 "nbformat": 4,
 "nbformat_minor": 2
}
