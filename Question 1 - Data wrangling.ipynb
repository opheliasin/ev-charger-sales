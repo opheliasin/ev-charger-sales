{
 "cells": [
  {
   "cell_type": "markdown",
   "metadata": {},
   "source": [
    "# Question 1 - Data wrangling"
   ]
  },
  {
   "cell_type": "code",
   "execution_count": null,
   "metadata": {},
   "outputs": [],
   "source": [
    "import pandas as pd\n",
    "import geopandas as gpd\n",
    "import requests, json"
   ]
  },
  {
   "cell_type": "markdown",
   "metadata": {},
   "source": [
    "Here are the variables of interest:\n",
    "- Median household income: B19013_001E\n",
    "- Median gross rent: B25064_001E\n",
    "- Units in housing: DP04_0006E to DP04_00013E"
   ]
  },
  {
   "cell_type": "markdown",
   "metadata": {},
   "source": [
    "First we get median household income and median gross rent from U.S. Census via an API request."
   ]
  },
  {
   "cell_type": "code",
   "execution_count": null,
   "metadata": {},
   "outputs": [],
   "source": [
    "#we have to make a different request bc this variable isn't in the \"profiles\" subsection\n",
    "rs = \"https://api.census.gov/data/2020/acs/acs5?get=NAME,B19013_001E,B25064_001E&for=tract:*&in=state:06\"\n",
    "r = requests.get(rs)\n",
    "d=json.loads(r.text)\n",
    "IncomeRentDf = pd.DataFrame(d[1:], columns = d[0])"
   ]
  },
  {
   "cell_type": "markdown",
   "metadata": {},
   "source": [
    "Then we repeat the same process, except this time we are pulling housing data from another dataset from the U.S. Census."
   ]
  },
  {
   "cell_type": "code",
   "execution_count": null,
   "metadata": {},
   "outputs": [],
   "source": [
    "rs2 = \"https://api.census.gov/data/2020/acs/acs5/profile?get=NAME,DP04_0006E,DP04_0007E,DP04_0008E,DP04_0009E,DP04_0010E,DP04_0011E,DP04_0012E,DP04_0013E&for=tract:*&in=state:06\"\n",
    "r2 = requests.get(rs2)\n",
    "d2=json.loads(r2.text)\n",
    "HousingDf = pd.DataFrame(d2[1:], columns = d2[0])"
   ]
  },
  {
   "cell_type": "markdown",
   "metadata": {},
   "source": [
    "We then renamed the columns to make them more understandable."
   ]
  },
  {
   "cell_type": "code",
   "execution_count": null,
   "metadata": {},
   "outputs": [],
   "source": [
    "IncomeRentDf.rename(columns = {'B19013_001E': 'Income', 'B25064_001E': 'Rent'}, inplace= True)"
   ]
  },
  {
   "cell_type": "markdown",
   "metadata": {},
   "source": [
    "We create a `GEOID` column by combining the `state`, `county`, and `tract` column in preparation for a tabular join."
   ]
  },
  {
   "cell_type": "code",
   "execution_count": null,
   "metadata": {},
   "outputs": [],
   "source": [
    "columns = ['tract', 'county', 'state']\n",
    "for i in columns:\n",
    "    IncomeRentDf[i] = IncomeRentDf[i].astype(str)\n",
    "    HousingDf[i] = HousingDf[i].astype(str)\n",
    "\n",
    "HousingDf['GEOID'] = HousingDf['state'] + HousingDf['county'] + HousingDf['tract']\n",
    "HousingDf['GEOID'] = HousingDf['GEOID'].astype(int)\n",
    "IncomeRentDf['GEOID'] = IncomeRentDf['state'] + IncomeRentDf['county'] + IncomeRentDf['tract']\n",
    "IncomeRentDf['GEOID'] = IncomeRentDf['GEOID'].astype(int)"
   ]
  },
  {
   "cell_type": "markdown",
   "metadata": {},
   "source": [
    "Here we join `HousingDf` and `IncomeRentDf` to a new dataframe - `censusDf`."
   ]
  },
  {
   "cell_type": "code",
   "execution_count": null,
   "metadata": {},
   "outputs": [],
   "source": [
    "censusDf = HousingDf.set_index(\"GEOID\").join(IncomeRentDf.set_index(\"GEOID\"), rsuffix = '_remove')\n",
    "#dropping duplicate and useless columns\n",
    "censusDf.drop(columns = ['NAME', 'NAME_remove', 'state', 'state_remove', 'county', 'county_remove', 'tract', 'tract_remove'], inplace = True)"
   ]
  },
  {
   "cell_type": "markdown",
   "metadata": {},
   "source": [
    "Here we create a geodataframe for the CalEnviroscreen 4.0 data by reading a shapefile retrieved from [OEHHA](https://oehha.ca.gov/calenviroscreen/report/calenviroscreen-40). "
   ]
  },
  {
   "cell_type": "markdown",
   "metadata": {},
   "source": [
    "CalEnviroScreenGdf = gpd.read_file('data/CES4/CES4 Final Shapefile.shp')\n",
    "CalEnviroScreenGdf['Tract'] = CalEnviroScreenGdf['Tract'].astype(int)"
   ]
  },
  {
   "cell_type": "markdown",
   "metadata": {},
   "source": [
    "We then join `CalEnviroScreenGdf` and `censusDf` into `tractsDf`."
   ]
  },
  {
   "cell_type": "code",
   "execution_count": null,
   "metadata": {},
   "outputs": [],
   "source": [
    "tractsDf = CalEnviroScreenGdf.set_index('Tract').join(censusDf, how='left')"
   ]
  },
  {
   "cell_type": "markdown",
   "metadata": {},
   "source": [
    "Now we output the joined dataframe as a "
   ]
  }
 ],
 "metadata": {
  "language_info": {
   "name": "python"
  },
  "orig_nbformat": 4
 },
 "nbformat": 4,
 "nbformat_minor": 2
}
