{
 "cells": [
  {
   "cell_type": "code",
   "execution_count": 2,
   "id": "1f3dfdd3",
   "metadata": {},
   "outputs": [],
   "source": [
    "import pandas as pd\n",
    "import geopandas as gpd\n",
    "import requests, json"
   ]
  },
  {
   "cell_type": "markdown",
   "id": "474b41b8",
   "metadata": {},
   "source": [
    "Let's get the charger location data again:"
   ]
  },
  {
   "cell_type": "code",
   "execution_count": 3,
   "id": "309385d1",
   "metadata": {},
   "outputs": [],
   "source": [
    "apiKey = \"eCN7llpPT79TmygqmvC71QdnnWdOquoRdnCR1DXo\"\n",
    "nrelString = \"https://developer.nrel.gov/api/alt-fuel-stations/v1.geojson?api_key={}&fuel_type=ELEC&state=CA\".format(apiKey)\n",
    "chargers = gpd.read_file(nrelString)"
   ]
  },
  {
   "cell_type": "code",
   "execution_count": 4,
   "id": "0d4b821e",
   "metadata": {},
   "outputs": [],
   "source": [
    "chargers = chargers[chargers['access_code'] == 'public']"
   ]
  },
  {
   "cell_type": "markdown",
   "id": "6867b5b6",
   "metadata": {},
   "source": [
    "Now let's get EV sale data (this is on zip-code level):"
   ]
  },
  {
   "cell_type": "code",
   "execution_count": 5,
   "id": "653424fa",
   "metadata": {},
   "outputs": [],
   "source": [
    "sales = pd.read_csv(\"data/ZEV_Sales_by_Zipcode.csv\")"
   ]
  },
  {
   "cell_type": "code",
   "execution_count": 6,
   "id": "cc345f01",
   "metadata": {},
   "outputs": [],
   "source": [
    "zipSales = sales.groupby(\"ZIP\").sum()"
   ]
  },
  {
   "cell_type": "markdown",
   "id": "e63df1ba",
   "metadata": {},
   "source": [
    "There are a couple zipcodes that aren't in CA that we need to drop: one is a random one with only one sale, and one (99999) seems to be used when there was no zipcode associated with the sale, so it's much larger than the other values. \n",
    "http://www.structnet.com/instructions/zip_min_max_by_state.html"
   ]
  },
  {
   "cell_type": "code",
   "execution_count": 7,
   "id": "0a45453e",
   "metadata": {},
   "outputs": [],
   "source": [
    "zipSales = zipSales.drop(89061)\n",
    "zipSales = zipSales.drop(99999)"
   ]
  },
  {
   "cell_type": "code",
   "execution_count": 8,
   "id": "8dfa4cfd",
   "metadata": {},
   "outputs": [],
   "source": [
    "#also, let's get rid of data year, bc it's not meaningful to us anymore; we just want total # of EV's sold\n",
    "zipSales = zipSales.drop(columns = \"Data Year\")"
   ]
  },
  {
   "cell_type": "code",
   "execution_count": 9,
   "id": "dcf511ed",
   "metadata": {},
   "outputs": [
    {
     "data": {
      "text/plain": [
       "count    2162.000000\n",
       "mean      519.116559\n",
       "std       901.209629\n",
       "min         1.000000\n",
       "25%         6.000000\n",
       "50%        67.000000\n",
       "75%       706.500000\n",
       "max      8123.000000\n",
       "Name: Number of Vehicles, dtype: float64"
      ]
     },
     "execution_count": 9,
     "metadata": {},
     "output_type": "execute_result"
    }
   ],
   "source": [
    "zipSales['Number of Vehicles'].describe()"
   ]
  },
  {
   "cell_type": "markdown",
   "id": "2fe8fd19",
   "metadata": {},
   "source": [
    "Okay, now let's aggregate the charger locations by zipcode. We need to read in the zipcode boundaries:"
   ]
  },
  {
   "cell_type": "code",
   "execution_count": 10,
   "id": "4caf49b6",
   "metadata": {},
   "outputs": [],
   "source": [
    "zipcodes = gpd.read_file(\"data/Zipcode Boundaries/cb_2019_us_zcta510_500k.shp\")"
   ]
  },
  {
   "cell_type": "markdown",
   "id": "43130211",
   "metadata": {},
   "source": [
    "Now let's spatial join to count the number of chargers within each zip code:"
   ]
  },
  {
   "cell_type": "code",
   "execution_count": 11,
   "id": "030cc945",
   "metadata": {},
   "outputs": [],
   "source": [
    "joined_chargers = gpd.sjoin(chargers, zipcodes.to_crs(\"EPSG:4326\"), predicate = \"within\", how = \"left\")"
   ]
  },
  {
   "cell_type": "code",
   "execution_count": 12,
   "id": "0ce1943b",
   "metadata": {},
   "outputs": [
    {
     "data": {
      "text/html": [
       "<div>\n",
       "<style scoped>\n",
       "    .dataframe tbody tr th:only-of-type {\n",
       "        vertical-align: middle;\n",
       "    }\n",
       "\n",
       "    .dataframe tbody tr th {\n",
       "        vertical-align: top;\n",
       "    }\n",
       "\n",
       "    .dataframe thead th {\n",
       "        text-align: right;\n",
       "    }\n",
       "</style>\n",
       "<table border=\"1\" class=\"dataframe\">\n",
       "  <thead>\n",
       "    <tr style=\"text-align: right;\">\n",
       "      <th></th>\n",
       "      <th>access_code</th>\n",
       "      <th>access_days_time</th>\n",
       "      <th>access_detail_code</th>\n",
       "      <th>cards_accepted</th>\n",
       "      <th>date_last_confirmed</th>\n",
       "      <th>expected_date</th>\n",
       "      <th>fuel_type_code</th>\n",
       "      <th>groups_with_access_code</th>\n",
       "      <th>id</th>\n",
       "      <th>open_date</th>\n",
       "      <th>...</th>\n",
       "      <th>ev_pricing_fr</th>\n",
       "      <th>ev_network_ids</th>\n",
       "      <th>federal_agency</th>\n",
       "      <th>geometry</th>\n",
       "      <th>index_right</th>\n",
       "      <th>ZCTA5CE10</th>\n",
       "      <th>AFFGEOID10</th>\n",
       "      <th>GEOID10</th>\n",
       "      <th>ALAND10</th>\n",
       "      <th>AWATER10</th>\n",
       "    </tr>\n",
       "  </thead>\n",
       "  <tbody>\n",
       "    <tr>\n",
       "      <th>2</th>\n",
       "      <td>public</td>\n",
       "      <td>24 hours daily; pay lot</td>\n",
       "      <td>None</td>\n",
       "      <td>None</td>\n",
       "      <td>2020-11-09</td>\n",
       "      <td>None</td>\n",
       "      <td>ELEC</td>\n",
       "      <td>Public</td>\n",
       "      <td>1523</td>\n",
       "      <td>1995-08-30</td>\n",
       "      <td>...</td>\n",
       "      <td>None</td>\n",
       "      <td>None</td>\n",
       "      <td>None</td>\n",
       "      <td>POINT (-118.27139 34.04054)</td>\n",
       "      <td>26488.0</td>\n",
       "      <td>90015</td>\n",
       "      <td>8600000US90015</td>\n",
       "      <td>90015</td>\n",
       "      <td>4430399.0</td>\n",
       "      <td>0.0</td>\n",
       "    </tr>\n",
       "    <tr>\n",
       "      <th>10</th>\n",
       "      <td>public</td>\n",
       "      <td>24 hours daily</td>\n",
       "      <td>None</td>\n",
       "      <td>None</td>\n",
       "      <td>2021-10-12</td>\n",
       "      <td>None</td>\n",
       "      <td>ELEC</td>\n",
       "      <td>Public</td>\n",
       "      <td>1583</td>\n",
       "      <td>1996-10-15</td>\n",
       "      <td>...</td>\n",
       "      <td>None</td>\n",
       "      <td>None</td>\n",
       "      <td>None</td>\n",
       "      <td>POINT (-118.06400 34.06872)</td>\n",
       "      <td>8696.0</td>\n",
       "      <td>91731</td>\n",
       "      <td>8600000US91731</td>\n",
       "      <td>91731</td>\n",
       "      <td>9881410.0</td>\n",
       "      <td>169467.0</td>\n",
       "    </tr>\n",
       "    <tr>\n",
       "      <th>12</th>\n",
       "      <td>public</td>\n",
       "      <td>24 hours daily</td>\n",
       "      <td>None</td>\n",
       "      <td>None</td>\n",
       "      <td>2021-07-14</td>\n",
       "      <td>None</td>\n",
       "      <td>ELEC</td>\n",
       "      <td>Public</td>\n",
       "      <td>6355</td>\n",
       "      <td>1997-07-30</td>\n",
       "      <td>...</td>\n",
       "      <td>None</td>\n",
       "      <td>None</td>\n",
       "      <td>None</td>\n",
       "      <td>POINT (-117.24300 32.89947)</td>\n",
       "      <td>30854.0</td>\n",
       "      <td>92037</td>\n",
       "      <td>8600000US92037</td>\n",
       "      <td>92037</td>\n",
       "      <td>33842473.0</td>\n",
       "      <td>5226832.0</td>\n",
       "    </tr>\n",
       "    <tr>\n",
       "      <th>13</th>\n",
       "      <td>public</td>\n",
       "      <td>Dealership business hours</td>\n",
       "      <td>CALL</td>\n",
       "      <td>None</td>\n",
       "      <td>2021-12-09</td>\n",
       "      <td>None</td>\n",
       "      <td>ELEC</td>\n",
       "      <td>Public - Call ahead</td>\n",
       "      <td>6405</td>\n",
       "      <td>2012-12-11</td>\n",
       "      <td>...</td>\n",
       "      <td>None</td>\n",
       "      <td>None</td>\n",
       "      <td>None</td>\n",
       "      <td>POINT (-118.46837 34.22167)</td>\n",
       "      <td>16093.0</td>\n",
       "      <td>91343</td>\n",
       "      <td>8600000US91343</td>\n",
       "      <td>91343</td>\n",
       "      <td>15310106.0</td>\n",
       "      <td>34625.0</td>\n",
       "    </tr>\n",
       "    <tr>\n",
       "      <th>14</th>\n",
       "      <td>public</td>\n",
       "      <td>6am-12am daily</td>\n",
       "      <td>None</td>\n",
       "      <td>None</td>\n",
       "      <td>2020-02-06</td>\n",
       "      <td>None</td>\n",
       "      <td>ELEC</td>\n",
       "      <td>Public</td>\n",
       "      <td>6425</td>\n",
       "      <td>1997-08-30</td>\n",
       "      <td>...</td>\n",
       "      <td>None</td>\n",
       "      <td>None</td>\n",
       "      <td>None</td>\n",
       "      <td>POINT (-117.45905 33.90991)</td>\n",
       "      <td>31592.0</td>\n",
       "      <td>92503</td>\n",
       "      <td>8600000US92503</td>\n",
       "      <td>92503</td>\n",
       "      <td>77488367.0</td>\n",
       "      <td>10935445.0</td>\n",
       "    </tr>\n",
       "  </tbody>\n",
       "</table>\n",
       "<p>5 rows × 67 columns</p>\n",
       "</div>"
      ],
      "text/plain": [
       "   access_code           access_days_time access_detail_code cards_accepted  \\\n",
       "2       public    24 hours daily; pay lot               None           None   \n",
       "10      public             24 hours daily               None           None   \n",
       "12      public             24 hours daily               None           None   \n",
       "13      public  Dealership business hours               CALL           None   \n",
       "14      public             6am-12am daily               None           None   \n",
       "\n",
       "   date_last_confirmed expected_date fuel_type_code groups_with_access_code  \\\n",
       "2           2020-11-09          None           ELEC                  Public   \n",
       "10          2021-10-12          None           ELEC                  Public   \n",
       "12          2021-07-14          None           ELEC                  Public   \n",
       "13          2021-12-09          None           ELEC     Public - Call ahead   \n",
       "14          2020-02-06          None           ELEC                  Public   \n",
       "\n",
       "      id   open_date  ... ev_pricing_fr ev_network_ids federal_agency  \\\n",
       "2   1523  1995-08-30  ...          None           None           None   \n",
       "10  1583  1996-10-15  ...          None           None           None   \n",
       "12  6355  1997-07-30  ...          None           None           None   \n",
       "13  6405  2012-12-11  ...          None           None           None   \n",
       "14  6425  1997-08-30  ...          None           None           None   \n",
       "\n",
       "                       geometry index_right ZCTA5CE10      AFFGEOID10 GEOID10  \\\n",
       "2   POINT (-118.27139 34.04054)     26488.0     90015  8600000US90015   90015   \n",
       "10  POINT (-118.06400 34.06872)      8696.0     91731  8600000US91731   91731   \n",
       "12  POINT (-117.24300 32.89947)     30854.0     92037  8600000US92037   92037   \n",
       "13  POINT (-118.46837 34.22167)     16093.0     91343  8600000US91343   91343   \n",
       "14  POINT (-117.45905 33.90991)     31592.0     92503  8600000US92503   92503   \n",
       "\n",
       "       ALAND10    AWATER10  \n",
       "2    4430399.0         0.0  \n",
       "10   9881410.0    169467.0  \n",
       "12  33842473.0   5226832.0  \n",
       "13  15310106.0     34625.0  \n",
       "14  77488367.0  10935445.0  \n",
       "\n",
       "[5 rows x 67 columns]"
      ]
     },
     "execution_count": 12,
     "metadata": {},
     "output_type": "execute_result"
    }
   ],
   "source": [
    "joined_chargers.head()"
   ]
  },
  {
   "cell_type": "code",
   "execution_count": 13,
   "id": "c4ef4a38",
   "metadata": {},
   "outputs": [],
   "source": [
    "group_chargers = joined_chargers.groupby(\"ZCTA5CE10\").access_code.count()"
   ]
  },
  {
   "cell_type": "code",
   "execution_count": 14,
   "id": "b658795d",
   "metadata": {},
   "outputs": [
    {
     "data": {
      "text/plain": [
       "ZCTA5CE10\n",
       "00987     1\n",
       "21032     1\n",
       "21043     1\n",
       "90001     1\n",
       "90002     6\n",
       "         ..\n",
       "96146     2\n",
       "96148     2\n",
       "96150    22\n",
       "96155     1\n",
       "96161    23\n",
       "Name: access_code, Length: 1129, dtype: int64"
      ]
     },
     "execution_count": 14,
     "metadata": {},
     "output_type": "execute_result"
    }
   ],
   "source": [
    "group_chargers"
   ]
  },
  {
   "cell_type": "markdown",
   "id": "a7c36cfd",
   "metadata": {},
   "source": [
    "Again, there are some outside CA, so let's drop them:"
   ]
  },
  {
   "cell_type": "code",
   "execution_count": 15,
   "id": "2836950a",
   "metadata": {},
   "outputs": [],
   "source": [
    "group_chargers = group_chargers.drop('00987')"
   ]
  },
  {
   "cell_type": "code",
   "execution_count": 16,
   "id": "5ec88ee1",
   "metadata": {},
   "outputs": [],
   "source": [
    "group_chargers = group_chargers.drop('21032')\n",
    "group_chargers = group_chargers.drop('21043')"
   ]
  },
  {
   "cell_type": "markdown",
   "id": "8d0ddc66",
   "metadata": {},
   "source": [
    "Okay, so now we should have the number of sales per zip code as well as the number of chargers."
   ]
  },
  {
   "cell_type": "code",
   "execution_count": 17,
   "id": "ba74d972",
   "metadata": {},
   "outputs": [
    {
     "data": {
      "text/html": [
       "<div>\n",
       "<style scoped>\n",
       "    .dataframe tbody tr th:only-of-type {\n",
       "        vertical-align: middle;\n",
       "    }\n",
       "\n",
       "    .dataframe tbody tr th {\n",
       "        vertical-align: top;\n",
       "    }\n",
       "\n",
       "    .dataframe thead th {\n",
       "        text-align: right;\n",
       "    }\n",
       "</style>\n",
       "<table border=\"1\" class=\"dataframe\">\n",
       "  <thead>\n",
       "    <tr style=\"text-align: right;\">\n",
       "      <th></th>\n",
       "      <th>Number of Vehicles</th>\n",
       "    </tr>\n",
       "    <tr>\n",
       "      <th>ZIP</th>\n",
       "      <th></th>\n",
       "    </tr>\n",
       "  </thead>\n",
       "  <tbody>\n",
       "    <tr>\n",
       "      <th>90001</th>\n",
       "      <td>168</td>\n",
       "    </tr>\n",
       "    <tr>\n",
       "      <th>90002</th>\n",
       "      <td>126</td>\n",
       "    </tr>\n",
       "    <tr>\n",
       "      <th>90003</th>\n",
       "      <td>124</td>\n",
       "    </tr>\n",
       "    <tr>\n",
       "      <th>90004</th>\n",
       "      <td>1576</td>\n",
       "    </tr>\n",
       "    <tr>\n",
       "      <th>90005</th>\n",
       "      <td>687</td>\n",
       "    </tr>\n",
       "    <tr>\n",
       "      <th>...</th>\n",
       "      <td>...</td>\n",
       "    </tr>\n",
       "    <tr>\n",
       "      <th>96151</th>\n",
       "      <td>2</td>\n",
       "    </tr>\n",
       "    <tr>\n",
       "      <th>96158</th>\n",
       "      <td>4</td>\n",
       "    </tr>\n",
       "    <tr>\n",
       "      <th>96160</th>\n",
       "      <td>8</td>\n",
       "    </tr>\n",
       "    <tr>\n",
       "      <th>96161</th>\n",
       "      <td>388</td>\n",
       "    </tr>\n",
       "    <tr>\n",
       "      <th>96162</th>\n",
       "      <td>7</td>\n",
       "    </tr>\n",
       "  </tbody>\n",
       "</table>\n",
       "<p>2162 rows × 1 columns</p>\n",
       "</div>"
      ],
      "text/plain": [
       "       Number of Vehicles\n",
       "ZIP                      \n",
       "90001                 168\n",
       "90002                 126\n",
       "90003                 124\n",
       "90004                1576\n",
       "90005                 687\n",
       "...                   ...\n",
       "96151                   2\n",
       "96158                   4\n",
       "96160                   8\n",
       "96161                 388\n",
       "96162                   7\n",
       "\n",
       "[2162 rows x 1 columns]"
      ]
     },
     "execution_count": 17,
     "metadata": {},
     "output_type": "execute_result"
    }
   ],
   "source": [
    "zipSales"
   ]
  },
  {
   "cell_type": "code",
   "execution_count": 18,
   "id": "bac93300",
   "metadata": {},
   "outputs": [
    {
     "data": {
      "text/plain": [
       "ZCTA5CE10\n",
       "90001     1\n",
       "90002     6\n",
       "90003     5\n",
       "90004     3\n",
       "90005     5\n",
       "         ..\n",
       "96146     2\n",
       "96148     2\n",
       "96150    22\n",
       "96155     1\n",
       "96161    23\n",
       "Name: access_code, Length: 1126, dtype: int64"
      ]
     },
     "execution_count": 18,
     "metadata": {},
     "output_type": "execute_result"
    }
   ],
   "source": [
    "group_chargers"
   ]
  },
  {
   "cell_type": "markdown",
   "id": "276f082e",
   "metadata": {},
   "source": [
    "Some zipcodes have zero chargers, which means that they don't show up in the series, but we want them to, right? Anyways, we can join the two dataframes together to start plotting/comparing"
   ]
  },
  {
   "cell_type": "code",
   "execution_count": 19,
   "id": "f1bfc69d",
   "metadata": {},
   "outputs": [
    {
     "data": {
      "text/html": [
       "<div>\n",
       "<style scoped>\n",
       "    .dataframe tbody tr th:only-of-type {\n",
       "        vertical-align: middle;\n",
       "    }\n",
       "\n",
       "    .dataframe tbody tr th {\n",
       "        vertical-align: top;\n",
       "    }\n",
       "\n",
       "    .dataframe thead th {\n",
       "        text-align: right;\n",
       "    }\n",
       "</style>\n",
       "<table border=\"1\" class=\"dataframe\">\n",
       "  <thead>\n",
       "    <tr style=\"text-align: right;\">\n",
       "      <th></th>\n",
       "      <th>Number of Vehicles</th>\n",
       "      <th>access_code</th>\n",
       "    </tr>\n",
       "    <tr>\n",
       "      <th>ZIP</th>\n",
       "      <th></th>\n",
       "      <th></th>\n",
       "    </tr>\n",
       "  </thead>\n",
       "  <tbody>\n",
       "    <tr>\n",
       "      <th>90001</th>\n",
       "      <td>168</td>\n",
       "      <td>NaN</td>\n",
       "    </tr>\n",
       "    <tr>\n",
       "      <th>90002</th>\n",
       "      <td>126</td>\n",
       "      <td>NaN</td>\n",
       "    </tr>\n",
       "    <tr>\n",
       "      <th>90003</th>\n",
       "      <td>124</td>\n",
       "      <td>NaN</td>\n",
       "    </tr>\n",
       "    <tr>\n",
       "      <th>90004</th>\n",
       "      <td>1576</td>\n",
       "      <td>NaN</td>\n",
       "    </tr>\n",
       "    <tr>\n",
       "      <th>90005</th>\n",
       "      <td>687</td>\n",
       "      <td>NaN</td>\n",
       "    </tr>\n",
       "  </tbody>\n",
       "</table>\n",
       "</div>"
      ],
      "text/plain": [
       "       Number of Vehicles  access_code\n",
       "ZIP                                   \n",
       "90001                 168          NaN\n",
       "90002                 126          NaN\n",
       "90003                 124          NaN\n",
       "90004                1576          NaN\n",
       "90005                 687          NaN"
      ]
     },
     "execution_count": 19,
     "metadata": {},
     "output_type": "execute_result"
    }
   ],
   "source": [
    "joined_zipcodes = zipSales.join(group_chargers)\n",
    "joined_zipcodes.head()"
   ]
  },
  {
   "cell_type": "code",
   "execution_count": 20,
   "id": "745b8d8d",
   "metadata": {},
   "outputs": [
    {
     "data": {
      "text/html": [
       "<div>\n",
       "<style scoped>\n",
       "    .dataframe tbody tr th:only-of-type {\n",
       "        vertical-align: middle;\n",
       "    }\n",
       "\n",
       "    .dataframe tbody tr th {\n",
       "        vertical-align: top;\n",
       "    }\n",
       "\n",
       "    .dataframe thead th {\n",
       "        text-align: right;\n",
       "    }\n",
       "</style>\n",
       "<table border=\"1\" class=\"dataframe\">\n",
       "  <thead>\n",
       "    <tr style=\"text-align: right;\">\n",
       "      <th></th>\n",
       "      <th>Number of Vehicles</th>\n",
       "      <th>access_code</th>\n",
       "    </tr>\n",
       "    <tr>\n",
       "      <th>ZIP</th>\n",
       "      <th></th>\n",
       "      <th></th>\n",
       "    </tr>\n",
       "  </thead>\n",
       "  <tbody>\n",
       "    <tr>\n",
       "      <th>90001</th>\n",
       "      <td>168</td>\n",
       "      <td>1.0</td>\n",
       "    </tr>\n",
       "    <tr>\n",
       "      <th>90002</th>\n",
       "      <td>126</td>\n",
       "      <td>6.0</td>\n",
       "    </tr>\n",
       "    <tr>\n",
       "      <th>90003</th>\n",
       "      <td>124</td>\n",
       "      <td>5.0</td>\n",
       "    </tr>\n",
       "    <tr>\n",
       "      <th>90004</th>\n",
       "      <td>1576</td>\n",
       "      <td>3.0</td>\n",
       "    </tr>\n",
       "    <tr>\n",
       "      <th>90005</th>\n",
       "      <td>687</td>\n",
       "      <td>5.0</td>\n",
       "    </tr>\n",
       "    <tr>\n",
       "      <th>90006</th>\n",
       "      <td>435</td>\n",
       "      <td>4.0</td>\n",
       "    </tr>\n",
       "    <tr>\n",
       "      <th>90007</th>\n",
       "      <td>248</td>\n",
       "      <td>66.0</td>\n",
       "    </tr>\n",
       "    <tr>\n",
       "      <th>90008</th>\n",
       "      <td>645</td>\n",
       "      <td>5.0</td>\n",
       "    </tr>\n",
       "    <tr>\n",
       "      <th>90009</th>\n",
       "      <td>6</td>\n",
       "      <td>NaN</td>\n",
       "    </tr>\n",
       "    <tr>\n",
       "      <th>90010</th>\n",
       "      <td>480</td>\n",
       "      <td>18.0</td>\n",
       "    </tr>\n",
       "    <tr>\n",
       "      <th>90011</th>\n",
       "      <td>211</td>\n",
       "      <td>3.0</td>\n",
       "    </tr>\n",
       "    <tr>\n",
       "      <th>90012</th>\n",
       "      <td>1677</td>\n",
       "      <td>61.0</td>\n",
       "    </tr>\n",
       "    <tr>\n",
       "      <th>90013</th>\n",
       "      <td>466</td>\n",
       "      <td>17.0</td>\n",
       "    </tr>\n",
       "    <tr>\n",
       "      <th>90014</th>\n",
       "      <td>375</td>\n",
       "      <td>18.0</td>\n",
       "    </tr>\n",
       "    <tr>\n",
       "      <th>90015</th>\n",
       "      <td>842</td>\n",
       "      <td>48.0</td>\n",
       "    </tr>\n",
       "    <tr>\n",
       "      <th>90016</th>\n",
       "      <td>725</td>\n",
       "      <td>10.0</td>\n",
       "    </tr>\n",
       "    <tr>\n",
       "      <th>90017</th>\n",
       "      <td>1147</td>\n",
       "      <td>50.0</td>\n",
       "    </tr>\n",
       "    <tr>\n",
       "      <th>90018</th>\n",
       "      <td>510</td>\n",
       "      <td>4.0</td>\n",
       "    </tr>\n",
       "    <tr>\n",
       "      <th>90019</th>\n",
       "      <td>1602</td>\n",
       "      <td>14.0</td>\n",
       "    </tr>\n",
       "    <tr>\n",
       "      <th>90020</th>\n",
       "      <td>783</td>\n",
       "      <td>5.0</td>\n",
       "    </tr>\n",
       "  </tbody>\n",
       "</table>\n",
       "</div>"
      ],
      "text/plain": [
       "       Number of Vehicles  access_code\n",
       "ZIP                                   \n",
       "90001                 168          1.0\n",
       "90002                 126          6.0\n",
       "90003                 124          5.0\n",
       "90004                1576          3.0\n",
       "90005                 687          5.0\n",
       "90006                 435          4.0\n",
       "90007                 248         66.0\n",
       "90008                 645          5.0\n",
       "90009                   6          NaN\n",
       "90010                 480         18.0\n",
       "90011                 211          3.0\n",
       "90012                1677         61.0\n",
       "90013                 466         17.0\n",
       "90014                 375         18.0\n",
       "90015                 842         48.0\n",
       "90016                 725         10.0\n",
       "90017                1147         50.0\n",
       "90018                 510          4.0\n",
       "90019                1602         14.0\n",
       "90020                 783          5.0"
      ]
     },
     "execution_count": 20,
     "metadata": {},
     "output_type": "execute_result"
    }
   ],
   "source": [
    "#fix join\n",
    "group_chargers.index = group_chargers.index.astype(int)\n",
    "joined_zipcodes = zipSales.join(group_chargers)\n",
    "joined_zipcodes.head(20)"
   ]
  },
  {
   "cell_type": "code",
   "execution_count": 21,
   "id": "c10ee52c",
   "metadata": {},
   "outputs": [],
   "source": [
    "joined_zipcodes.rename(columns = {'access_code':'chargers'}, inplace = True)"
   ]
  },
  {
   "cell_type": "code",
   "execution_count": 22,
   "id": "76fe65c1",
   "metadata": {},
   "outputs": [],
   "source": [
    "#set nan to zero\n",
    "joined_zipcodes.chargers = joined_zipcodes.chargers.fillna(0)"
   ]
  },
  {
   "cell_type": "code",
   "execution_count": 23,
   "id": "c7d8f35d",
   "metadata": {},
   "outputs": [
    {
     "data": {
      "text/html": [
       "<div>\n",
       "<style scoped>\n",
       "    .dataframe tbody tr th:only-of-type {\n",
       "        vertical-align: middle;\n",
       "    }\n",
       "\n",
       "    .dataframe tbody tr th {\n",
       "        vertical-align: top;\n",
       "    }\n",
       "\n",
       "    .dataframe thead th {\n",
       "        text-align: right;\n",
       "    }\n",
       "</style>\n",
       "<table border=\"1\" class=\"dataframe\">\n",
       "  <thead>\n",
       "    <tr style=\"text-align: right;\">\n",
       "      <th></th>\n",
       "      <th>Number of Vehicles</th>\n",
       "      <th>chargers</th>\n",
       "    </tr>\n",
       "    <tr>\n",
       "      <th>ZIP</th>\n",
       "      <th></th>\n",
       "      <th></th>\n",
       "    </tr>\n",
       "  </thead>\n",
       "  <tbody>\n",
       "    <tr>\n",
       "      <th>90001</th>\n",
       "      <td>168</td>\n",
       "      <td>1.0</td>\n",
       "    </tr>\n",
       "    <tr>\n",
       "      <th>90002</th>\n",
       "      <td>126</td>\n",
       "      <td>6.0</td>\n",
       "    </tr>\n",
       "    <tr>\n",
       "      <th>90003</th>\n",
       "      <td>124</td>\n",
       "      <td>5.0</td>\n",
       "    </tr>\n",
       "    <tr>\n",
       "      <th>90004</th>\n",
       "      <td>1576</td>\n",
       "      <td>3.0</td>\n",
       "    </tr>\n",
       "    <tr>\n",
       "      <th>90005</th>\n",
       "      <td>687</td>\n",
       "      <td>5.0</td>\n",
       "    </tr>\n",
       "    <tr>\n",
       "      <th>90006</th>\n",
       "      <td>435</td>\n",
       "      <td>4.0</td>\n",
       "    </tr>\n",
       "    <tr>\n",
       "      <th>90007</th>\n",
       "      <td>248</td>\n",
       "      <td>66.0</td>\n",
       "    </tr>\n",
       "    <tr>\n",
       "      <th>90008</th>\n",
       "      <td>645</td>\n",
       "      <td>5.0</td>\n",
       "    </tr>\n",
       "    <tr>\n",
       "      <th>90009</th>\n",
       "      <td>6</td>\n",
       "      <td>0.0</td>\n",
       "    </tr>\n",
       "    <tr>\n",
       "      <th>90010</th>\n",
       "      <td>480</td>\n",
       "      <td>18.0</td>\n",
       "    </tr>\n",
       "  </tbody>\n",
       "</table>\n",
       "</div>"
      ],
      "text/plain": [
       "       Number of Vehicles  chargers\n",
       "ZIP                                \n",
       "90001                 168       1.0\n",
       "90002                 126       6.0\n",
       "90003                 124       5.0\n",
       "90004                1576       3.0\n",
       "90005                 687       5.0\n",
       "90006                 435       4.0\n",
       "90007                 248      66.0\n",
       "90008                 645       5.0\n",
       "90009                   6       0.0\n",
       "90010                 480      18.0"
      ]
     },
     "execution_count": 23,
     "metadata": {},
     "output_type": "execute_result"
    }
   ],
   "source": [
    "joined_zipcodes.head(10)"
   ]
  },
  {
   "cell_type": "markdown",
   "id": "499ed48a",
   "metadata": {},
   "source": [
    "Okay, we actually need the zipcode boundaries to plot as well lol"
   ]
  },
  {
   "cell_type": "code",
   "execution_count": 24,
   "id": "211a0a82",
   "metadata": {},
   "outputs": [],
   "source": [
    "zipcodes['ZCTA5CE10'] = zipcodes['ZCTA5CE10'].astype(int)"
   ]
  },
  {
   "cell_type": "code",
   "execution_count": 25,
   "id": "bcf51100",
   "metadata": {},
   "outputs": [],
   "source": [
    "zipcode_gdf = gpd.GeoDataFrame(joined_zipcodes, geometry = zipcodes.set_index(\"ZCTA5CE10\").geometry)"
   ]
  },
  {
   "cell_type": "markdown",
   "id": "9eb6f272",
   "metadata": {},
   "source": [
    "OKAY NOW WE CAN PLOT"
   ]
  },
  {
   "cell_type": "markdown",
   "id": "ec9571eb",
   "metadata": {},
   "source": [
    "Okay, now we can look at the number of chargers/ev to get an idea of where there's a mismatch!"
   ]
  },
  {
   "cell_type": "code",
   "execution_count": 80,
   "id": "968b38aa",
   "metadata": {},
   "outputs": [
    {
     "data": {
      "text/html": [
       "<div>\n",
       "<style scoped>\n",
       "    .dataframe tbody tr th:only-of-type {\n",
       "        vertical-align: middle;\n",
       "    }\n",
       "\n",
       "    .dataframe tbody tr th {\n",
       "        vertical-align: top;\n",
       "    }\n",
       "\n",
       "    .dataframe thead th {\n",
       "        text-align: right;\n",
       "    }\n",
       "</style>\n",
       "<table border=\"1\" class=\"dataframe\">\n",
       "  <thead>\n",
       "    <tr style=\"text-align: right;\">\n",
       "      <th></th>\n",
       "      <th>Number of Vehicles</th>\n",
       "      <th>chargers</th>\n",
       "      <th>geometry</th>\n",
       "      <th>Chargers/EV</th>\n",
       "      <th>EVs/Charger</th>\n",
       "    </tr>\n",
       "    <tr>\n",
       "      <th>ZIP</th>\n",
       "      <th></th>\n",
       "      <th></th>\n",
       "      <th></th>\n",
       "      <th></th>\n",
       "      <th></th>\n",
       "    </tr>\n",
       "  </thead>\n",
       "  <tbody>\n",
       "    <tr>\n",
       "      <th>90001</th>\n",
       "      <td>168</td>\n",
       "      <td>1.0</td>\n",
       "      <td>POLYGON ((-118.26519 33.98923, -118.25644 33.9...</td>\n",
       "      <td>5.952381</td>\n",
       "      <td>168.000000</td>\n",
       "    </tr>\n",
       "    <tr>\n",
       "      <th>90002</th>\n",
       "      <td>126</td>\n",
       "      <td>6.0</td>\n",
       "      <td>POLYGON ((-118.26512 33.96013, -118.25858 33.9...</td>\n",
       "      <td>47.619048</td>\n",
       "      <td>21.000000</td>\n",
       "    </tr>\n",
       "    <tr>\n",
       "      <th>90003</th>\n",
       "      <td>124</td>\n",
       "      <td>5.0</td>\n",
       "      <td>POLYGON ((-118.28320 33.98914, -118.28039 33.9...</td>\n",
       "      <td>40.322581</td>\n",
       "      <td>24.800000</td>\n",
       "    </tr>\n",
       "    <tr>\n",
       "      <th>90004</th>\n",
       "      <td>1576</td>\n",
       "      <td>3.0</td>\n",
       "      <td>POLYGON ((-118.33858 34.08346, -118.33096 34.0...</td>\n",
       "      <td>1.903553</td>\n",
       "      <td>525.333333</td>\n",
       "    </tr>\n",
       "    <tr>\n",
       "      <th>90005</th>\n",
       "      <td>687</td>\n",
       "      <td>5.0</td>\n",
       "      <td>MULTIPOLYGON (((-118.29291 34.06360, -118.2916...</td>\n",
       "      <td>7.278020</td>\n",
       "      <td>137.400000</td>\n",
       "    </tr>\n",
       "  </tbody>\n",
       "</table>\n",
       "</div>"
      ],
      "text/plain": [
       "       Number of Vehicles  chargers  \\\n",
       "ZIP                                   \n",
       "90001                 168       1.0   \n",
       "90002                 126       6.0   \n",
       "90003                 124       5.0   \n",
       "90004                1576       3.0   \n",
       "90005                 687       5.0   \n",
       "\n",
       "                                                geometry  Chargers/EV  \\\n",
       "ZIP                                                                     \n",
       "90001  POLYGON ((-118.26519 33.98923, -118.25644 33.9...     5.952381   \n",
       "90002  POLYGON ((-118.26512 33.96013, -118.25858 33.9...    47.619048   \n",
       "90003  POLYGON ((-118.28320 33.98914, -118.28039 33.9...    40.322581   \n",
       "90004  POLYGON ((-118.33858 34.08346, -118.33096 34.0...     1.903553   \n",
       "90005  MULTIPOLYGON (((-118.29291 34.06360, -118.2916...     7.278020   \n",
       "\n",
       "       EVs/Charger  \n",
       "ZIP                 \n",
       "90001   168.000000  \n",
       "90002    21.000000  \n",
       "90003    24.800000  \n",
       "90004   525.333333  \n",
       "90005   137.400000  "
      ]
     },
     "execution_count": 80,
     "metadata": {},
     "output_type": "execute_result"
    }
   ],
   "source": [
    "#multiply by 1000 just for rounder numbers\n",
    "zipcode_gdf['Chargers/EV'] = 1000*(zipcode_gdf['chargers']/zipcode_gdf['Number of Vehicles'])\n",
    "zipcode_gdf.head()"
   ]
  },
  {
   "cell_type": "code",
   "execution_count": 102,
   "id": "4797164d",
   "metadata": {},
   "outputs": [
    {
     "data": {
      "text/plain": [
       "<AxesSubplot:xlabel='Number of Vehicles', ylabel='chargers'>"
      ]
     },
     "execution_count": 102,
     "metadata": {},
     "output_type": "execute_result"
    },
    {
     "data": {
      "image/png": "[encoded data removed]",
      "text/plain": [
       "<Figure size 432x288 with 1 Axes>"
      ]
     },
     "metadata": {
      "needs_background": "light"
     },
     "output_type": "display_data"
    }
   ],
   "source": [
    "import seaborn as sns\n",
    "\n",
    "sns.regplot(data = zipcode_gdf, x = \"Number of Vehicles\", y = 'chargers')"
   ]
  },
  {
   "cell_type": "code",
   "execution_count": 112,
   "id": "69681ba6",
   "metadata": {},
   "outputs": [],
   "source": [
    "#okay, now let's save the df to a pickle that we can use in the analysis notebook\n",
    "zipcode_gdf.to_pickle(\"data/q2\")"
   ]
  }
 ],
 "metadata": {
  "kernelspec": {
   "display_name": "Python 3 (ipykernel)",
   "language": "python",
   "name": "python3"
  },
  "language_info": {
   "codemirror_mode": {
    "name": "ipython",
    "version": 3
   },
   "file_extension": ".py",
   "mimetype": "text/x-python",
   "name": "python",
   "nbconvert_exporter": "python",
   "pygments_lexer": "ipython3",
   "version": "3.8.13"
  }
 },
 "nbformat": 4,
 "nbformat_minor": 5
}
