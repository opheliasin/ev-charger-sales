{
 "cells": [
  {
   "cell_type": "code",
   "execution_count": null,
   "id": "8f402ef8",
   "metadata": {},
   "outputs": [],
   "source": [
    "#import libraries\n",
    "\n",
    "import pandas as pd\n",
    "import geopandas as gpd"
   ]
  },
  {
   "cell_type": "code",
   "execution_count": 2,
   "id": "3924e918",
   "metadata": {},
   "outputs": [],
   "source": [
    "import cenpy\n",
    "from cenpy import products"
   ]
  },
  {
   "cell_type": "code",
   "execution_count": 3,
   "id": "2a03e229",
   "metadata": {},
   "outputs": [],
   "source": [
    "#census tract data\n",
    "acs = cenpy.products.ACS() "
   ]
  },
  {
   "cell_type": "markdown",
   "id": "fe2fdaa2",
   "metadata": {},
   "source": [
    "Variables of interest:\n",
    "- Median household income: B19013_001E\n",
    "- Units in housing: DP04_0006E to DP04_00013E"
   ]
  },
  {
   "cell_type": "code",
   "execution_count": 18,
   "id": "def2fb5f",
   "metadata": {},
   "outputs": [
    {
     "name": "stdout",
     "output_type": "stream",
     "text": [
      "['DP04_0006E', 'DP04_0007E', 'DP04_0008E', 'DP04_0009E', 'DP04_00010E', 'DP04_00011E', 'DP04_00012E', 'DP04_00013E']\n"
     ]
    }
   ],
   "source": [
    "list = []\n",
    "for i in range(6,14):\n",
    "    list.append(\"DP04_000\" + str(i) + \"E\")\n",
    "print(list)"
   ]
  },
  {
   "cell_type": "code",
   "execution_count": 6,
   "id": "c63bf6f9",
   "metadata": {},
   "outputs": [
    {
     "name": "stderr",
     "output_type": "stream",
     "text": [
      "/Users/opheliasin/opt/anaconda3/envs/uds/lib/python3.8/site-packages/pandas/core/dtypes/cast.py:1981: ShapelyDeprecationWarning: __len__ for multi-part geometries is deprecated and will be removed in Shapely 2.0. Check the length of the `geoms` property instead to get the  number of parts of a multi-part geometry.\n",
      "  result[:] = values\n",
      "/Users/opheliasin/opt/anaconda3/envs/uds/lib/python3.8/site-packages/pyproj/crs/crs.py:131: FutureWarning: '+init=<authority>:<code>' syntax is deprecated. '<authority>:<code>' is the preferred initialization method. When making the change, be mindful of axis order changes: https://pyproj4.github.io/pyproj/stable/gotchas.html#axis-order-changes-in-proj-6\n",
      "  in_crs_string = _prepare_from_proj_string(in_crs_string)\n"
     ]
    },
    {
     "ename": "KeyError",
     "evalue": "'Response from API is malformed. You may have submitted too many queries, formatted the request incorrectly, or experienced significant network connectivity issues. Check to make sure that your inputs, like placenames, are spelled correctly, and that your geographies match the level at which you intend to query. The original error from the Census is:\\\\n(API ERROR 500:Error performing query operation([]))'",
     "output_type": "error",
     "traceback": [
      "\u001b[0;31m---------------------------------------------------------------------------\u001b[0m",
      "\u001b[0;31mKeyError\u001b[0m                                  Traceback (most recent call last)",
      "File \u001b[0;32m~/opt/anaconda3/envs/uds/lib/python3.8/site-packages/cenpy/tiger.py:192\u001b[0m, in \u001b[0;36mESRILayer.query\u001b[0;34m(self, raw, strict, **kwargs)\u001b[0m\n\u001b[1;32m    <a href='file:///Users/opheliasin/opt/anaconda3/envs/uds/lib/python3.8/site-packages/cenpy/tiger.py?line=190'>191</a>\u001b[0m \u001b[39mtry\u001b[39;00m:\n\u001b[0;32m--> <a href='file:///Users/opheliasin/opt/anaconda3/envs/uds/lib/python3.8/site-packages/cenpy/tiger.py?line=191'>192</a>\u001b[0m     features \u001b[39m=\u001b[39m datadict[\u001b[39m\"\u001b[39;49m\u001b[39mfeatures\u001b[39;49m\u001b[39m\"\u001b[39;49m]\n\u001b[1;32m    <a href='file:///Users/opheliasin/opt/anaconda3/envs/uds/lib/python3.8/site-packages/cenpy/tiger.py?line=192'>193</a>\u001b[0m \u001b[39mexcept\u001b[39;00m \u001b[39mKeyError\u001b[39;00m:\n",
      "\u001b[0;31mKeyError\u001b[0m: 'features'",
      "\nDuring handling of the above exception, another exception occurred:\n",
      "\u001b[0;31mKeyError\u001b[0m                                  Traceback (most recent call last)",
      "\u001b[1;32m/Users/opheliasin/Documents/GitHub/urbnpl229-project/EV.ipynb Cell 6'\u001b[0m in \u001b[0;36m<cell line: 1>\u001b[0;34m()\u001b[0m\n\u001b[0;32m----> <a href='vscode-notebook-cell:/Users/opheliasin/Documents/GitHub/urbnpl229-project/EV.ipynb#ch0000005?line=0'>1</a>\u001b[0m censusDf \u001b[39m=\u001b[39m products\u001b[39m.\u001b[39;49mACS(year \u001b[39m=\u001b[39;49m \u001b[39m'\u001b[39;49m\u001b[39mlatest\u001b[39;49m\u001b[39m'\u001b[39;49m)\u001b[39m.\u001b[39;49mfrom_state(\u001b[39m'\u001b[39;49m\u001b[39mCA\u001b[39;49m\u001b[39m'\u001b[39;49m, level\u001b[39m=\u001b[39;49m\u001b[39m'\u001b[39;49m\u001b[39mtract\u001b[39;49m\u001b[39m'\u001b[39;49m,\n\u001b[1;32m      <a href='vscode-notebook-cell:/Users/opheliasin/Documents/GitHub/urbnpl229-project/EV.ipynb#ch0000005?line=1'>2</a>\u001b[0m                                         variables\u001b[39m=\u001b[39;49m[\u001b[39m'\u001b[39;49m\u001b[39mDP04_0006E\u001b[39;49m\u001b[39m'\u001b[39;49m, \u001b[39m'\u001b[39;49m\u001b[39mDP04_0007E\u001b[39;49m\u001b[39m'\u001b[39;49m, \u001b[39m'\u001b[39;49m\u001b[39mDP04_0008E\u001b[39;49m\u001b[39m'\u001b[39;49m, \n\u001b[1;32m      <a href='vscode-notebook-cell:/Users/opheliasin/Documents/GitHub/urbnpl229-project/EV.ipynb#ch0000005?line=2'>3</a>\u001b[0m                                                    \u001b[39m'\u001b[39;49m\u001b[39mDP04_0009E\u001b[39;49m\u001b[39m'\u001b[39;49m, \u001b[39m'\u001b[39;49m\u001b[39mDP04_0010E\u001b[39;49m\u001b[39m'\u001b[39;49m, \u001b[39m'\u001b[39;49m\u001b[39mDP04_0011E\u001b[39;49m\u001b[39m'\u001b[39;49m, \n\u001b[1;32m      <a href='vscode-notebook-cell:/Users/opheliasin/Documents/GitHub/urbnpl229-project/EV.ipynb#ch0000005?line=3'>4</a>\u001b[0m                                                    \u001b[39m'\u001b[39;49m\u001b[39mDP04_0012E\u001b[39;49m\u001b[39m'\u001b[39;49m, \u001b[39m'\u001b[39;49m\u001b[39mDP04_0013E\u001b[39;49m\u001b[39m'\u001b[39;49m, \u001b[39m'\u001b[39;49m\u001b[39mB19013_001E\u001b[39;49m\u001b[39m'\u001b[39;49m \n\u001b[1;32m      <a href='vscode-notebook-cell:/Users/opheliasin/Documents/GitHub/urbnpl229-project/EV.ipynb#ch0000005?line=4'>5</a>\u001b[0m                                                    ])\n",
      "File \u001b[0;32m~/opt/anaconda3/envs/uds/lib/python3.8/site-packages/cenpy/products.py:767\u001b[0m, in \u001b[0;36mACS.from_state\u001b[0;34m(self, state, variables, level, **kwargs)\u001b[0m\n\u001b[1;32m    <a href='file:///Users/opheliasin/opt/anaconda3/envs/uds/lib/python3.8/site-packages/cenpy/products.py?line=765'>766</a>\u001b[0m \u001b[39mdef\u001b[39;00m \u001b[39mfrom_state\u001b[39m(\u001b[39mself\u001b[39m, state, variables\u001b[39m=\u001b[39m\u001b[39mNone\u001b[39;00m, level\u001b[39m=\u001b[39m\u001b[39m\"\u001b[39m\u001b[39mtract\u001b[39m\u001b[39m\"\u001b[39m, \u001b[39m*\u001b[39m\u001b[39m*\u001b[39mkwargs):\n\u001b[0;32m--> <a href='file:///Users/opheliasin/opt/anaconda3/envs/uds/lib/python3.8/site-packages/cenpy/products.py?line=766'>767</a>\u001b[0m     \u001b[39mreturn\u001b[39;00m \u001b[39mself\u001b[39;49m\u001b[39m.\u001b[39;49m_from_name(state, variables, level, \u001b[39m\"\u001b[39;49m\u001b[39mStates\u001b[39;49m\u001b[39m\"\u001b[39;49m, \u001b[39m*\u001b[39;49m\u001b[39m*\u001b[39;49mkwargs)\n",
      "File \u001b[0;32m~/opt/anaconda3/envs/uds/lib/python3.8/site-packages/cenpy/products.py:723\u001b[0m, in \u001b[0;36mACS._from_name\u001b[0;34m(self, place, variables, level, layername, return_geometry, cache_name, strict_within, return_bounds, geometry_precision)\u001b[0m\n\u001b[1;32m    <a href='file:///Users/opheliasin/opt/anaconda3/envs/uds/lib/python3.8/site-packages/cenpy/products.py?line=719'>720</a>\u001b[0m variables\u001b[39m.\u001b[39mappend(\u001b[39m\"\u001b[39m\u001b[39mGEO_ID\u001b[39m\u001b[39m\"\u001b[39m)\n\u001b[1;32m    <a href='file:///Users/opheliasin/opt/anaconda3/envs/uds/lib/python3.8/site-packages/cenpy/products.py?line=721'>722</a>\u001b[0m caller \u001b[39m=\u001b[39m \u001b[39msuper\u001b[39m(ACS, \u001b[39mself\u001b[39m)\u001b[39m.\u001b[39m_from_name\n\u001b[0;32m--> <a href='file:///Users/opheliasin/opt/anaconda3/envs/uds/lib/python3.8/site-packages/cenpy/products.py?line=722'>723</a>\u001b[0m geoms, variables, \u001b[39m*\u001b[39mrest \u001b[39m=\u001b[39m caller(\n\u001b[1;32m    <a href='file:///Users/opheliasin/opt/anaconda3/envs/uds/lib/python3.8/site-packages/cenpy/products.py?line=723'>724</a>\u001b[0m     place,\n\u001b[1;32m    <a href='file:///Users/opheliasin/opt/anaconda3/envs/uds/lib/python3.8/site-packages/cenpy/products.py?line=724'>725</a>\u001b[0m     variables,\n\u001b[1;32m    <a href='file:///Users/opheliasin/opt/anaconda3/envs/uds/lib/python3.8/site-packages/cenpy/products.py?line=725'>726</a>\u001b[0m     level,\n\u001b[1;32m    <a href='file:///Users/opheliasin/opt/anaconda3/envs/uds/lib/python3.8/site-packages/cenpy/products.py?line=726'>727</a>\u001b[0m     layername,\n\u001b[1;32m    <a href='file:///Users/opheliasin/opt/anaconda3/envs/uds/lib/python3.8/site-packages/cenpy/products.py?line=727'>728</a>\u001b[0m     return_geometry\u001b[39m=\u001b[39;49mreturn_geometry,\n\u001b[1;32m    <a href='file:///Users/opheliasin/opt/anaconda3/envs/uds/lib/python3.8/site-packages/cenpy/products.py?line=728'>729</a>\u001b[0m     cache_name\u001b[39m=\u001b[39;49mcache_name,\n\u001b[1;32m    <a href='file:///Users/opheliasin/opt/anaconda3/envs/uds/lib/python3.8/site-packages/cenpy/products.py?line=729'>730</a>\u001b[0m     strict_within\u001b[39m=\u001b[39;49mstrict_within,\n\u001b[1;32m    <a href='file:///Users/opheliasin/opt/anaconda3/envs/uds/lib/python3.8/site-packages/cenpy/products.py?line=730'>731</a>\u001b[0m     return_bounds\u001b[39m=\u001b[39;49mreturn_bounds,\n\u001b[1;32m    <a href='file:///Users/opheliasin/opt/anaconda3/envs/uds/lib/python3.8/site-packages/cenpy/products.py?line=731'>732</a>\u001b[0m     geometry_precision\u001b[39m=\u001b[39;49mgeometry_precision,\n\u001b[1;32m    <a href='file:///Users/opheliasin/opt/anaconda3/envs/uds/lib/python3.8/site-packages/cenpy/products.py?line=732'>733</a>\u001b[0m )\n\u001b[1;32m    <a href='file:///Users/opheliasin/opt/anaconda3/envs/uds/lib/python3.8/site-packages/cenpy/products.py?line=733'>734</a>\u001b[0m variables[\u001b[39m\"\u001b[39m\u001b[39mGEOID\u001b[39m\u001b[39m\"\u001b[39m] \u001b[39m=\u001b[39m variables\u001b[39m.\u001b[39mGEO_ID\u001b[39m.\u001b[39mstr\u001b[39m.\u001b[39msplit(\u001b[39m\"\u001b[39m\u001b[39mUS\u001b[39m\u001b[39m\"\u001b[39m)\u001b[39m.\u001b[39mapply(\u001b[39mlambda\u001b[39;00m x: x[\u001b[39m1\u001b[39m])\n\u001b[1;32m    <a href='file:///Users/opheliasin/opt/anaconda3/envs/uds/lib/python3.8/site-packages/cenpy/products.py?line=734'>735</a>\u001b[0m return_table \u001b[39m=\u001b[39m geoms[[\u001b[39m\"\u001b[39m\u001b[39mGEOID\u001b[39m\u001b[39m\"\u001b[39m, \u001b[39m\"\u001b[39m\u001b[39mgeometry\u001b[39m\u001b[39m\"\u001b[39m]]\u001b[39m.\u001b[39mmerge(\n\u001b[1;32m    <a href='file:///Users/opheliasin/opt/anaconda3/envs/uds/lib/python3.8/site-packages/cenpy/products.py?line=735'>736</a>\u001b[0m     variables\u001b[39m.\u001b[39mdrop(\u001b[39m\"\u001b[39m\u001b[39mGEO_ID\u001b[39m\u001b[39m\"\u001b[39m, axis\u001b[39m=\u001b[39m\u001b[39m1\u001b[39m), how\u001b[39m=\u001b[39m\u001b[39m\"\u001b[39m\u001b[39mleft\u001b[39m\u001b[39m\"\u001b[39m, on\u001b[39m=\u001b[39m\u001b[39m\"\u001b[39m\u001b[39mGEOID\u001b[39m\u001b[39m\"\u001b[39m\n\u001b[1;32m    <a href='file:///Users/opheliasin/opt/anaconda3/envs/uds/lib/python3.8/site-packages/cenpy/products.py?line=736'>737</a>\u001b[0m )\n",
      "File \u001b[0;32m~/opt/anaconda3/envs/uds/lib/python3.8/site-packages/cenpy/products.py:380\u001b[0m, in \u001b[0;36m_Product._from_name\u001b[0;34m(self, place, variables, level, layername, strict_within, return_bounds, geometry_precision, cache_name, replace_missing, return_geometry)\u001b[0m\n\u001b[1;32m    <a href='file:///Users/opheliasin/opt/anaconda3/envs/uds/lib/python3.8/site-packages/cenpy/products.py?line=375'>376</a>\u001b[0m variables\u001b[39m.\u001b[39mappend(\u001b[39m\"\u001b[39m\u001b[39mNAME\u001b[39m\u001b[39m\"\u001b[39m)\n\u001b[1;32m    <a href='file:///Users/opheliasin/opt/anaconda3/envs/uds/lib/python3.8/site-packages/cenpy/products.py?line=376'>377</a>\u001b[0m env \u001b[39m=\u001b[39m \u001b[39mself\u001b[39m\u001b[39m.\u001b[39m_environment_from_layer(\n\u001b[1;32m    <a href='file:///Users/opheliasin/opt/anaconda3/envs/uds/lib/python3.8/site-packages/cenpy/products.py?line=377'>378</a>\u001b[0m     place, layername, geometry_precision, cache_name\u001b[39m=\u001b[39mcache_name\n\u001b[1;32m    <a href='file:///Users/opheliasin/opt/anaconda3/envs/uds/lib/python3.8/site-packages/cenpy/products.py?line=378'>379</a>\u001b[0m )\n\u001b[0;32m--> <a href='file:///Users/opheliasin/opt/anaconda3/envs/uds/lib/python3.8/site-packages/cenpy/products.py?line=379'>380</a>\u001b[0m geoms, data \u001b[39m=\u001b[39m \u001b[39mself\u001b[39;49m\u001b[39m.\u001b[39;49m_from_bbox(\n\u001b[1;32m    <a href='file:///Users/opheliasin/opt/anaconda3/envs/uds/lib/python3.8/site-packages/cenpy/products.py?line=380'>381</a>\u001b[0m     env\u001b[39m.\u001b[39;49mto_crs(epsg\u001b[39m=\u001b[39;49m\u001b[39m4326\u001b[39;49m)\u001b[39m.\u001b[39;49mtotal_bounds,\n\u001b[1;32m    <a href='file:///Users/opheliasin/opt/anaconda3/envs/uds/lib/python3.8/site-packages/cenpy/products.py?line=381'>382</a>\u001b[0m     variables\u001b[39m=\u001b[39;49mvariables,\n\u001b[1;32m    <a href='file:///Users/opheliasin/opt/anaconda3/envs/uds/lib/python3.8/site-packages/cenpy/products.py?line=382'>383</a>\u001b[0m     level\u001b[39m=\u001b[39;49mlevel,\n\u001b[1;32m    <a href='file:///Users/opheliasin/opt/anaconda3/envs/uds/lib/python3.8/site-packages/cenpy/products.py?line=383'>384</a>\u001b[0m     strict_within\u001b[39m=\u001b[39;49m\u001b[39mFalse\u001b[39;49;00m,\n\u001b[1;32m    <a href='file:///Users/opheliasin/opt/anaconda3/envs/uds/lib/python3.8/site-packages/cenpy/products.py?line=384'>385</a>\u001b[0m     return_bounds\u001b[39m=\u001b[39;49m\u001b[39mFalse\u001b[39;49;00m,\n\u001b[1;32m    <a href='file:///Users/opheliasin/opt/anaconda3/envs/uds/lib/python3.8/site-packages/cenpy/products.py?line=385'>386</a>\u001b[0m     replace_missing\u001b[39m=\u001b[39;49mreplace_missing,\n\u001b[1;32m    <a href='file:///Users/opheliasin/opt/anaconda3/envs/uds/lib/python3.8/site-packages/cenpy/products.py?line=386'>387</a>\u001b[0m )\n\u001b[1;32m    <a href='file:///Users/opheliasin/opt/anaconda3/envs/uds/lib/python3.8/site-packages/cenpy/products.py?line=387'>388</a>\u001b[0m \u001b[39mif\u001b[39;00m strict_within:\n\u001b[1;32m    <a href='file:///Users/opheliasin/opt/anaconda3/envs/uds/lib/python3.8/site-packages/cenpy/products.py?line=388'>389</a>\u001b[0m     geoms \u001b[39m=\u001b[39m geopandas\u001b[39m.\u001b[39msjoin(geoms, env[[\u001b[39m\"\u001b[39m\u001b[39mgeometry\u001b[39m\u001b[39m\"\u001b[39m]], how\u001b[39m=\u001b[39m\u001b[39m\"\u001b[39m\u001b[39minner\u001b[39m\u001b[39m\"\u001b[39m, op\u001b[39m=\u001b[39m\u001b[39m\"\u001b[39m\u001b[39mwithin\u001b[39m\u001b[39m\"\u001b[39m)\n",
      "File \u001b[0;32m~/opt/anaconda3/envs/uds/lib/python3.8/site-packages/cenpy/products.py:250\u001b[0m, in \u001b[0;36m_Product._from_bbox\u001b[0;34m(self, bounding_box, variables, level, return_geometry, geometry_precision, strict_within, return_bounds, replace_missing)\u001b[0m\n\u001b[1;32m    <a href='file:///Users/opheliasin/opt/anaconda3/envs/uds/lib/python3.8/site-packages/cenpy/products.py?line=246'>247</a>\u001b[0m envelope \u001b[39m=\u001b[39m \u001b[39m\"\u001b[39m\u001b[39m%\u001b[39m\u001b[39m2C\u001b[39m\u001b[39m\"\u001b[39m\u001b[39m.\u001b[39mjoin(\u001b[39mmap\u001b[39m(\u001b[39mlambda\u001b[39;00m x: \u001b[39m\"\u001b[39m\u001b[39m{:.6f}\u001b[39;00m\u001b[39m\"\u001b[39m\u001b[39m.\u001b[39mformat(x), bounding_box))\n\u001b[1;32m    <a href='file:///Users/opheliasin/opt/anaconda3/envs/uds/lib/python3.8/site-packages/cenpy/products.py?line=248'>249</a>\u001b[0m layer \u001b[39m=\u001b[39m \u001b[39mself\u001b[39m\u001b[39m.\u001b[39m_api\u001b[39m.\u001b[39mmapservice\u001b[39m.\u001b[39mlayers[\u001b[39mself\u001b[39m\u001b[39m.\u001b[39m_layer_lookup[level]]\n\u001b[0;32m--> <a href='file:///Users/opheliasin/opt/anaconda3/envs/uds/lib/python3.8/site-packages/cenpy/products.py?line=249'>250</a>\u001b[0m involved \u001b[39m=\u001b[39m layer\u001b[39m.\u001b[39;49mquery(\n\u001b[1;32m    <a href='file:///Users/opheliasin/opt/anaconda3/envs/uds/lib/python3.8/site-packages/cenpy/products.py?line=250'>251</a>\u001b[0m     geometryType\u001b[39m=\u001b[39;49m\u001b[39m\"\u001b[39;49m\u001b[39mesriGeometryEnvelope\u001b[39;49m\u001b[39m\"\u001b[39;49m,\n\u001b[1;32m    <a href='file:///Users/opheliasin/opt/anaconda3/envs/uds/lib/python3.8/site-packages/cenpy/products.py?line=251'>252</a>\u001b[0m     geometry\u001b[39m=\u001b[39;49menvelope,\n\u001b[1;32m    <a href='file:///Users/opheliasin/opt/anaconda3/envs/uds/lib/python3.8/site-packages/cenpy/products.py?line=252'>253</a>\u001b[0m     returnGeometry\u001b[39m=\u001b[39;49m\u001b[39m\"\u001b[39;49m\u001b[39mtrue\u001b[39;49m\u001b[39m\"\u001b[39;49m,\n\u001b[1;32m    <a href='file:///Users/opheliasin/opt/anaconda3/envs/uds/lib/python3.8/site-packages/cenpy/products.py?line=253'>254</a>\u001b[0m     inSR\u001b[39m=\u001b[39;49m\u001b[39m4326\u001b[39;49m,\n\u001b[1;32m    <a href='file:///Users/opheliasin/opt/anaconda3/envs/uds/lib/python3.8/site-packages/cenpy/products.py?line=254'>255</a>\u001b[0m     spatialRel\u001b[39m=\u001b[39;49m\u001b[39m\"\u001b[39;49m\u001b[39mesriSpatialRelIntersects\u001b[39;49m\u001b[39m\"\u001b[39;49m,\n\u001b[1;32m    <a href='file:///Users/opheliasin/opt/anaconda3/envs/uds/lib/python3.8/site-packages/cenpy/products.py?line=255'>256</a>\u001b[0m     geometryPrecision\u001b[39m=\u001b[39;49mgeometry_precision,\n\u001b[1;32m    <a href='file:///Users/opheliasin/opt/anaconda3/envs/uds/lib/python3.8/site-packages/cenpy/products.py?line=256'>257</a>\u001b[0m )\n\u001b[1;32m    <a href='file:///Users/opheliasin/opt/anaconda3/envs/uds/lib/python3.8/site-packages/cenpy/products.py?line=257'>258</a>\u001b[0m \u001b[39m# filter the records by a strict \"within\" query if needed\u001b[39;00m\n\u001b[1;32m    <a href='file:///Users/opheliasin/opt/anaconda3/envs/uds/lib/python3.8/site-packages/cenpy/products.py?line=258'>259</a>\u001b[0m \u001b[39mif\u001b[39;00m strict_within:\n",
      "File \u001b[0;32m~/opt/anaconda3/envs/uds/lib/python3.8/site-packages/cenpy/tiger.py:198\u001b[0m, in \u001b[0;36mESRILayer.query\u001b[0;34m(self, raw, strict, **kwargs)\u001b[0m\n\u001b[1;32m    <a href='file:///Users/opheliasin/opt/anaconda3/envs/uds/lib/python3.8/site-packages/cenpy/tiger.py?line=195'>196</a>\u001b[0m     \u001b[39mif\u001b[39;00m details \u001b[39mis\u001b[39;00m []:\n\u001b[1;32m    <a href='file:///Users/opheliasin/opt/anaconda3/envs/uds/lib/python3.8/site-packages/cenpy/tiger.py?line=196'>197</a>\u001b[0m         details \u001b[39m=\u001b[39m \u001b[39m\"\u001b[39m\u001b[39mMapserver provided no detailed error\u001b[39m\u001b[39m\"\u001b[39m\n\u001b[0;32m--> <a href='file:///Users/opheliasin/opt/anaconda3/envs/uds/lib/python3.8/site-packages/cenpy/tiger.py?line=197'>198</a>\u001b[0m     \u001b[39mraise\u001b[39;00m \u001b[39mKeyError\u001b[39;00m(\n\u001b[1;32m    <a href='file:///Users/opheliasin/opt/anaconda3/envs/uds/lib/python3.8/site-packages/cenpy/tiger.py?line=198'>199</a>\u001b[0m         (\n\u001b[1;32m    <a href='file:///Users/opheliasin/opt/anaconda3/envs/uds/lib/python3.8/site-packages/cenpy/tiger.py?line=199'>200</a>\u001b[0m             \u001b[39mr\u001b[39m\u001b[39m\"\u001b[39m\u001b[39mResponse from API is malformed. You may have \u001b[39m\u001b[39m\"\u001b[39m\n\u001b[1;32m    <a href='file:///Users/opheliasin/opt/anaconda3/envs/uds/lib/python3.8/site-packages/cenpy/tiger.py?line=200'>201</a>\u001b[0m             \u001b[39mr\u001b[39m\u001b[39m\"\u001b[39m\u001b[39msubmitted too many queries, formatted the request incorrectly, \u001b[39m\u001b[39m\"\u001b[39m\n\u001b[1;32m    <a href='file:///Users/opheliasin/opt/anaconda3/envs/uds/lib/python3.8/site-packages/cenpy/tiger.py?line=201'>202</a>\u001b[0m             \u001b[39mr\u001b[39m\u001b[39m\"\u001b[39m\u001b[39mor experienced significant network connectivity issues.\u001b[39m\u001b[39m\"\u001b[39m\n\u001b[1;32m    <a href='file:///Users/opheliasin/opt/anaconda3/envs/uds/lib/python3.8/site-packages/cenpy/tiger.py?line=202'>203</a>\u001b[0m             \u001b[39mr\u001b[39m\u001b[39m\"\u001b[39m\u001b[39m Check to make sure that your inputs, like placenames, are spelled\u001b[39m\u001b[39m\"\u001b[39m\n\u001b[1;32m    <a href='file:///Users/opheliasin/opt/anaconda3/envs/uds/lib/python3.8/site-packages/cenpy/tiger.py?line=203'>204</a>\u001b[0m             \u001b[39mr\u001b[39m\u001b[39m\"\u001b[39m\u001b[39m correctly, and that your geographies match the level at which you\u001b[39m\u001b[39m\"\u001b[39m\n\u001b[1;32m    <a href='file:///Users/opheliasin/opt/anaconda3/envs/uds/lib/python3.8/site-packages/cenpy/tiger.py?line=204'>205</a>\u001b[0m             \u001b[39mr\u001b[39m\u001b[39m\"\u001b[39m\u001b[39m intend to query. The original error from the Census is:\u001b[39m\u001b[39m\\\u001b[39m\u001b[39mn\u001b[39m\u001b[39m\"\u001b[39m\n\u001b[1;32m    <a href='file:///Users/opheliasin/opt/anaconda3/envs/uds/lib/python3.8/site-packages/cenpy/tiger.py?line=205'>206</a>\u001b[0m             \u001b[39mr\u001b[39m\u001b[39m\"\u001b[39m\u001b[39m(API ERROR \u001b[39m\u001b[39m{}\u001b[39;00m\u001b[39m:\u001b[39m\u001b[39m{}\u001b[39;00m\u001b[39m(\u001b[39m\u001b[39m{}\u001b[39;00m\u001b[39m))\u001b[39m\u001b[39m\"\u001b[39m\u001b[39m.\u001b[39mformat(code, msg, details)\n\u001b[1;32m    <a href='file:///Users/opheliasin/opt/anaconda3/envs/uds/lib/python3.8/site-packages/cenpy/tiger.py?line=206'>207</a>\u001b[0m         )\n\u001b[1;32m    <a href='file:///Users/opheliasin/opt/anaconda3/envs/uds/lib/python3.8/site-packages/cenpy/tiger.py?line=207'>208</a>\u001b[0m     )\n\u001b[1;32m    <a href='file:///Users/opheliasin/opt/anaconda3/envs/uds/lib/python3.8/site-packages/cenpy/tiger.py?line=208'>209</a>\u001b[0m todf \u001b[39m=\u001b[39m []\n\u001b[1;32m    <a href='file:///Users/opheliasin/opt/anaconda3/envs/uds/lib/python3.8/site-packages/cenpy/tiger.py?line=209'>210</a>\u001b[0m \u001b[39mfor\u001b[39;00m i, feature \u001b[39min\u001b[39;00m \u001b[39menumerate\u001b[39m(features):\n",
      "\u001b[0;31mKeyError\u001b[0m: 'Response from API is malformed. You may have submitted too many queries, formatted the request incorrectly, or experienced significant network connectivity issues. Check to make sure that your inputs, like placenames, are spelled correctly, and that your geographies match the level at which you intend to query. The original error from the Census is:\\\\n(API ERROR 500:Error performing query operation([]))'"
     ]
    }
   ],
   "source": [
    "censusDf = products.ACS(year = 'latest').from_state('CA', level='tract',\n",
    "                                        variables=['DP04_0006E', 'DP04_0007E', 'DP04_0008E', \n",
    "                                                   'DP04_0009E', 'DP04_0010E', 'DP04_0011E', \n",
    "                                                   'DP04_0012E', 'DP04_0013E', 'B19013_001E' \n",
    "                                                   ])\n"
   ]
  },
  {
   "cell_type": "code",
   "execution_count": null,
   "id": "5ca0ae70",
   "metadata": {},
   "outputs": [],
   "source": []
  },
  {
   "cell_type": "code",
   "execution_count": 10,
   "id": "3928a42f",
   "metadata": {},
   "outputs": [
    {
     "name": "stderr",
     "output_type": "stream",
     "text": [
      "/Users/opheliasin/opt/anaconda3/envs/uds/lib/python3.8/site-packages/cenpy/remote.py:224: SyntaxWarning: \"is not\" with a literal. Did you mean \"!=\"?\n",
      "  if index is not \"\":\n",
      "/Users/opheliasin/opt/anaconda3/envs/uds/lib/python3.8/site-packages/cenpy/remote.py:224: SyntaxWarning: \"is not\" with a literal. Did you mean \"!=\"?\n",
      "  if index is not \"\":\n"
     ]
    },
    {
     "ename": "KeyError",
     "evalue": "'Dataset tigerWMS_ACS2020 not found. Please check cenpy.tiger.available()'",
     "output_type": "error",
     "traceback": [
      "\u001b[0;31m---------------------------------------------------------------------------\u001b[0m",
      "\u001b[0;31mKeyError\u001b[0m                                  Traceback (most recent call last)",
      "\u001b[1;32m/Users/opheliasin/Documents/GitHub/urbnpl229-project/EV.ipynb Cell 8'\u001b[0m in \u001b[0;36m<cell line: 1>\u001b[0;34m()\u001b[0m\n\u001b[0;32m----> <a href='vscode-notebook-cell:/Users/opheliasin/Documents/GitHub/urbnpl229-project/EV.ipynb#ch0000006?line=0'>1</a>\u001b[0m censusDf \u001b[39m=\u001b[39m products\u001b[39m.\u001b[39;49mACS(year \u001b[39m=\u001b[39;49m \u001b[39m2020\u001b[39;49m)\u001b[39m.\u001b[39mfrom_county(\u001b[39m'\u001b[39m\u001b[39mLos Angeles, CA\u001b[39m\u001b[39m'\u001b[39m, level\u001b[39m=\u001b[39m\u001b[39m'\u001b[39m\u001b[39mtract\u001b[39m\u001b[39m'\u001b[39m,\n\u001b[1;32m      <a href='vscode-notebook-cell:/Users/opheliasin/Documents/GitHub/urbnpl229-project/EV.ipynb#ch0000006?line=1'>2</a>\u001b[0m                                         variables\u001b[39m=\u001b[39m[\u001b[39m'\u001b[39m\u001b[39mDP04_0006E\u001b[39m\u001b[39m'\u001b[39m, \u001b[39m'\u001b[39m\u001b[39mDP04_0007E\u001b[39m\u001b[39m'\u001b[39m, \u001b[39m'\u001b[39m\u001b[39mDP04_0008E\u001b[39m\u001b[39m'\u001b[39m, \n\u001b[1;32m      <a href='vscode-notebook-cell:/Users/opheliasin/Documents/GitHub/urbnpl229-project/EV.ipynb#ch0000006?line=2'>3</a>\u001b[0m                                                    \u001b[39m'\u001b[39m\u001b[39mDP04_0009E\u001b[39m\u001b[39m'\u001b[39m, \u001b[39m'\u001b[39m\u001b[39mDP04_0010E\u001b[39m\u001b[39m'\u001b[39m, \u001b[39m'\u001b[39m\u001b[39mDP04_0011E\u001b[39m\u001b[39m'\u001b[39m, \n\u001b[1;32m      <a href='vscode-notebook-cell:/Users/opheliasin/Documents/GitHub/urbnpl229-project/EV.ipynb#ch0000006?line=3'>4</a>\u001b[0m                                                    \u001b[39m'\u001b[39m\u001b[39mDP04_0012E\u001b[39m\u001b[39m'\u001b[39m, \u001b[39m'\u001b[39m\u001b[39mDP04_0013E\u001b[39m\u001b[39m'\u001b[39m, \u001b[39m'\u001b[39m\u001b[39mB19013_001E\u001b[39m\u001b[39m'\u001b[39m \n\u001b[1;32m      <a href='vscode-notebook-cell:/Users/opheliasin/Documents/GitHub/urbnpl229-project/EV.ipynb#ch0000006?line=4'>5</a>\u001b[0m                                                    ])\n",
      "File \u001b[0;32m~/opt/anaconda3/envs/uds/lib/python3.8/site-packages/cenpy/products.py:688\u001b[0m, in \u001b[0;36mACS.__init__\u001b[0;34m(self, year)\u001b[0m\n\u001b[1;32m    <a href='file:///Users/opheliasin/opt/anaconda3/envs/uds/lib/python3.8/site-packages/cenpy/products.py?line=682'>683</a>\u001b[0m     \u001b[39mraise\u001b[39;00m \u001b[39mNotImplementedError\u001b[39;00m(\n\u001b[1;32m    <a href='file:///Users/opheliasin/opt/anaconda3/envs/uds/lib/python3.8/site-packages/cenpy/products.py?line=683'>684</a>\u001b[0m         \u001b[39m\"\u001b[39m\u001b[39mThe requested year \u001b[39m\u001b[39m{}\u001b[39;00m\u001b[39m is too early. \u001b[39m\u001b[39m\"\u001b[39m\n\u001b[1;32m    <a href='file:///Users/opheliasin/opt/anaconda3/envs/uds/lib/python3.8/site-packages/cenpy/products.py?line=684'>685</a>\u001b[0m         \u001b[39m\"\u001b[39m\u001b[39mOnly 2013 and onwards is supported.\u001b[39m\u001b[39m\"\u001b[39m\u001b[39m.\u001b[39mformat(year)\n\u001b[1;32m    <a href='file:///Users/opheliasin/opt/anaconda3/envs/uds/lib/python3.8/site-packages/cenpy/products.py?line=685'>686</a>\u001b[0m     )\n\u001b[1;32m    <a href='file:///Users/opheliasin/opt/anaconda3/envs/uds/lib/python3.8/site-packages/cenpy/products.py?line=686'>687</a>\u001b[0m \u001b[39mself\u001b[39m\u001b[39m.\u001b[39m_api \u001b[39m=\u001b[39m APIConnection(\u001b[39m\"\u001b[39m\u001b[39mACSDT\u001b[39m\u001b[39m{}\u001b[39;00m\u001b[39mY\u001b[39m\u001b[39m{}\u001b[39;00m\u001b[39m\"\u001b[39m\u001b[39m.\u001b[39mformat(\u001b[39m5\u001b[39m, year))\n\u001b[0;32m--> <a href='file:///Users/opheliasin/opt/anaconda3/envs/uds/lib/python3.8/site-packages/cenpy/products.py?line=687'>688</a>\u001b[0m \u001b[39mself\u001b[39;49m\u001b[39m.\u001b[39;49m_api\u001b[39m.\u001b[39;49mset_mapservice(\u001b[39m\"\u001b[39;49m\u001b[39mtigerWMS_ACS\u001b[39;49m\u001b[39m{}\u001b[39;49;00m\u001b[39m\"\u001b[39;49m\u001b[39m.\u001b[39;49mformat(year))\n",
      "File \u001b[0;32m~/opt/anaconda3/envs/uds/lib/python3.8/site-packages/cenpy/remote.py:345\u001b[0m, in \u001b[0;36mAPIConnection.set_mapservice\u001b[0;34m(self, key)\u001b[0m\n\u001b[1;32m    <a href='file:///Users/opheliasin/opt/anaconda3/envs/uds/lib/python3.8/site-packages/cenpy/remote.py?line=342'>343</a>\u001b[0m     \u001b[39mself\u001b[39m\u001b[39m.\u001b[39mmapservice \u001b[39m=\u001b[39m key\n\u001b[1;32m    <a href='file:///Users/opheliasin/opt/anaconda3/envs/uds/lib/python3.8/site-packages/cenpy/remote.py?line=343'>344</a>\u001b[0m \u001b[39melif\u001b[39;00m \u001b[39misinstance\u001b[39m(key, \u001b[39mstr\u001b[39m):\n\u001b[0;32m--> <a href='file:///Users/opheliasin/opt/anaconda3/envs/uds/lib/python3.8/site-packages/cenpy/remote.py?line=344'>345</a>\u001b[0m     \u001b[39mself\u001b[39m\u001b[39m.\u001b[39mmapservice \u001b[39m=\u001b[39m tig\u001b[39m.\u001b[39;49mTigerConnection(name\u001b[39m=\u001b[39;49mkey)\n\u001b[1;32m    <a href='file:///Users/opheliasin/opt/anaconda3/envs/uds/lib/python3.8/site-packages/cenpy/remote.py?line=345'>346</a>\u001b[0m \u001b[39mreturn\u001b[39;00m \u001b[39mself\u001b[39m\n",
      "File \u001b[0;32m~/opt/anaconda3/envs/uds/lib/python3.8/site-packages/cenpy/tiger.py:237\u001b[0m, in \u001b[0;36mTigerConnection.__init__\u001b[0;34m(self, name)\u001b[0m\n\u001b[1;32m    <a href='file:///Users/opheliasin/opt/anaconda3/envs/uds/lib/python3.8/site-packages/cenpy/tiger.py?line=228'>229</a>\u001b[0m \u001b[39m\"\"\"\u001b[39;00m\n\u001b[1;32m    <a href='file:///Users/opheliasin/opt/anaconda3/envs/uds/lib/python3.8/site-packages/cenpy/tiger.py?line=229'>230</a>\u001b[0m \u001b[39mParameters\u001b[39;00m\n\u001b[1;32m    <a href='file:///Users/opheliasin/opt/anaconda3/envs/uds/lib/python3.8/site-packages/cenpy/tiger.py?line=230'>231</a>\u001b[0m \u001b[39m----------\u001b[39;00m\n\u001b[0;32m   (...)\u001b[0m\n\u001b[1;32m    <a href='file:///Users/opheliasin/opt/anaconda3/envs/uds/lib/python3.8/site-packages/cenpy/tiger.py?line=233'>234</a>\u001b[0m \n\u001b[1;32m    <a href='file:///Users/opheliasin/opt/anaconda3/envs/uds/lib/python3.8/site-packages/cenpy/tiger.py?line=234'>235</a>\u001b[0m \u001b[39m\"\"\"\u001b[39;00m\n\u001b[1;32m    <a href='file:///Users/opheliasin/opt/anaconda3/envs/uds/lib/python3.8/site-packages/cenpy/tiger.py?line=235'>236</a>\u001b[0m \u001b[39mif\u001b[39;00m name \u001b[39mnot\u001b[39;00m \u001b[39min\u001b[39;00m available(verbose\u001b[39m=\u001b[39m\u001b[39m-\u001b[39m\u001b[39m1\u001b[39m):\n\u001b[0;32m--> <a href='file:///Users/opheliasin/opt/anaconda3/envs/uds/lib/python3.8/site-packages/cenpy/tiger.py?line=236'>237</a>\u001b[0m     \u001b[39mraise\u001b[39;00m \u001b[39mKeyError\u001b[39;00m(\n\u001b[1;32m    <a href='file:///Users/opheliasin/opt/anaconda3/envs/uds/lib/python3.8/site-packages/cenpy/tiger.py?line=237'>238</a>\u001b[0m         \u001b[39m\"\u001b[39m\u001b[39mDataset \u001b[39m\u001b[39m{n}\u001b[39;00m\u001b[39m not found. Please check cenpy.tiger.available()\u001b[39m\u001b[39m\"\u001b[39m\u001b[39m.\u001b[39mformat(\n\u001b[1;32m    <a href='file:///Users/opheliasin/opt/anaconda3/envs/uds/lib/python3.8/site-packages/cenpy/tiger.py?line=238'>239</a>\u001b[0m             n\u001b[39m=\u001b[39mname\n\u001b[1;32m    <a href='file:///Users/opheliasin/opt/anaconda3/envs/uds/lib/python3.8/site-packages/cenpy/tiger.py?line=239'>240</a>\u001b[0m         )\n\u001b[1;32m    <a href='file:///Users/opheliasin/opt/anaconda3/envs/uds/lib/python3.8/site-packages/cenpy/tiger.py?line=240'>241</a>\u001b[0m     )\n\u001b[1;32m    <a href='file:///Users/opheliasin/opt/anaconda3/envs/uds/lib/python3.8/site-packages/cenpy/tiger.py?line=241'>242</a>\u001b[0m \u001b[39melse\u001b[39;00m:\n\u001b[1;32m    <a href='file:///Users/opheliasin/opt/anaconda3/envs/uds/lib/python3.8/site-packages/cenpy/tiger.py?line=242'>243</a>\u001b[0m     \u001b[39mself\u001b[39m\u001b[39m.\u001b[39m_baseurl \u001b[39m=\u001b[39m \u001b[39m\"\u001b[39m\u001b[39m/\u001b[39m\u001b[39m\"\u001b[39m\u001b[39m.\u001b[39mjoin([_baseurl, name, \u001b[39m\"\u001b[39m\u001b[39mMapServer\u001b[39m\u001b[39m\"\u001b[39m])\n",
      "\u001b[0;31mKeyError\u001b[0m: 'Dataset tigerWMS_ACS2020 not found. Please check cenpy.tiger.available()'"
     ]
    }
   ],
   "source": [
    "censusDf = products.ACS(year = 2020).from_county('Los Angeles, CA', level='tract',\n",
    "                                        variables=['DP04_0006E', 'DP04_0007E', 'DP04_0008E', \n",
    "                                                   'DP04_0009E', 'DP04_0010E', 'DP04_0011E', \n",
    "                                                   'DP04_0012E', 'DP04_0013E', 'B19013_001E' \n",
    "                                                   ])\n"
   ]
  },
  {
   "cell_type": "code",
   "execution_count": 8,
   "id": "0e32b8b9",
   "metadata": {},
   "outputs": [
    {
     "data": {
      "text/html": [
       "<div>\n",
       "<style scoped>\n",
       "    .dataframe tbody tr th:only-of-type {\n",
       "        vertical-align: middle;\n",
       "    }\n",
       "\n",
       "    .dataframe tbody tr th {\n",
       "        vertical-align: top;\n",
       "    }\n",
       "\n",
       "    .dataframe thead th {\n",
       "        text-align: right;\n",
       "    }\n",
       "</style>\n",
       "<table border=\"1\" class=\"dataframe\">\n",
       "  <thead>\n",
       "    <tr style=\"text-align: right;\">\n",
       "      <th></th>\n",
       "      <th>GEOID</th>\n",
       "      <th>geometry</th>\n",
       "      <th>B19013_001E</th>\n",
       "      <th>NAME</th>\n",
       "      <th>state</th>\n",
       "      <th>county</th>\n",
       "      <th>tract</th>\n",
       "    </tr>\n",
       "  </thead>\n",
       "  <tbody>\n",
       "    <tr>\n",
       "      <th>0</th>\n",
       "      <td>06037670328</td>\n",
       "      <td>POLYGON ((-13183928.750 3998590.110, -13183871...</td>\n",
       "      <td>177857.0</td>\n",
       "      <td>Census Tract 6703.28, Los Angeles County, Cali...</td>\n",
       "      <td>06</td>\n",
       "      <td>037</td>\n",
       "      <td>670328</td>\n",
       "    </tr>\n",
       "    <tr>\n",
       "      <th>1</th>\n",
       "      <td>06037990200</td>\n",
       "      <td>POLYGON ((-13206496.550 4033174.070, -13206119...</td>\n",
       "      <td>NaN</td>\n",
       "      <td>Census Tract 9902, Los Angeles County, California</td>\n",
       "      <td>06</td>\n",
       "      <td>037</td>\n",
       "      <td>990200</td>\n",
       "    </tr>\n",
       "    <tr>\n",
       "      <th>2</th>\n",
       "      <td>06037670326</td>\n",
       "      <td>POLYGON ((-13182706.680 4000184.830, -13182626...</td>\n",
       "      <td>155000.0</td>\n",
       "      <td>Census Tract 6703.26, Los Angeles County, Cali...</td>\n",
       "      <td>06</td>\n",
       "      <td>037</td>\n",
       "      <td>670326</td>\n",
       "    </tr>\n",
       "    <tr>\n",
       "      <th>3</th>\n",
       "      <td>06037980013</td>\n",
       "      <td>POLYGON ((-13179812.820 4019143.240, -13179813...</td>\n",
       "      <td>NaN</td>\n",
       "      <td>Census Tract 9800.13, Los Angeles County, Cali...</td>\n",
       "      <td>06</td>\n",
       "      <td>037</td>\n",
       "      <td>980013</td>\n",
       "    </tr>\n",
       "    <tr>\n",
       "      <th>4</th>\n",
       "      <td>06037602302</td>\n",
       "      <td>POLYGON ((-13177861.170 4015210.820, -13177860...</td>\n",
       "      <td>126116.0</td>\n",
       "      <td>Census Tract 6023.02, Los Angeles County, Cali...</td>\n",
       "      <td>06</td>\n",
       "      <td>037</td>\n",
       "      <td>602302</td>\n",
       "    </tr>\n",
       "  </tbody>\n",
       "</table>\n",
       "</div>"
      ],
      "text/plain": [
       "         GEOID                                           geometry  \\\n",
       "0  06037670328  POLYGON ((-13183928.750 3998590.110, -13183871...   \n",
       "1  06037990200  POLYGON ((-13206496.550 4033174.070, -13206119...   \n",
       "2  06037670326  POLYGON ((-13182706.680 4000184.830, -13182626...   \n",
       "3  06037980013  POLYGON ((-13179812.820 4019143.240, -13179813...   \n",
       "4  06037602302  POLYGON ((-13177861.170 4015210.820, -13177860...   \n",
       "\n",
       "   B19013_001E                                               NAME state  \\\n",
       "0     177857.0  Census Tract 6703.28, Los Angeles County, Cali...    06   \n",
       "1          NaN  Census Tract 9902, Los Angeles County, California    06   \n",
       "2     155000.0  Census Tract 6703.26, Los Angeles County, Cali...    06   \n",
       "3          NaN  Census Tract 9800.13, Los Angeles County, Cali...    06   \n",
       "4     126116.0  Census Tract 6023.02, Los Angeles County, Cali...    06   \n",
       "\n",
       "  county   tract  \n",
       "0    037  670328  \n",
       "1    037  990200  \n",
       "2    037  670326  \n",
       "3    037  980013  \n",
       "4    037  602302  "
      ]
     },
     "execution_count": 8,
     "metadata": {},
     "output_type": "execute_result"
    }
   ],
   "source": [
    "censusDf.head()"
   ]
  },
  {
   "cell_type": "code",
   "execution_count": null,
   "id": "31988c4b",
   "metadata": {},
   "outputs": [],
   "source": []
  }
 ],
 "metadata": {
  "interpreter": {
   "hash": "af74363cf09c58d2d73426591354c306a655761dcc6e5258661216e55027c84b"
  },
  "kernelspec": {
   "display_name": "Python 3.8.13 ('uds')",
   "language": "python",
   "name": "python3"
  },
  "language_info": {
   "codemirror_mode": {
    "name": "ipython",
    "version": 3
   },
   "file_extension": ".py",
   "mimetype": "text/x-python",
   "name": "python",
   "nbconvert_exporter": "python",
   "pygments_lexer": "ipython3",
   "version": "3.8.13"
  }
 },
 "nbformat": 4,
 "nbformat_minor": 5
}
